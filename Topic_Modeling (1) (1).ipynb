{
 "cells": [
  {
   "cell_type": "markdown",
   "metadata": {
    "id": "elmONJBjB1wZ"
   },
   "source": [
    "# Topic Modeling and Gibbs Sampling"
   ]
  },
  {
   "cell_type": "markdown",
   "metadata": {
    "id": "ke8yIh3yC-yw"
   },
   "source": [
    "Задача: описать текст через распределение весов по некоторому фиксированному набору топиков (тегов). Например, для набора тегов Политика, Военные сражения, Спорт, Интернет, Драма представить роман \"Война и мир\" как вектор (0.3, 0.2, 0, 0, 0.5), а статью в газете про допинг в велоспорте как вектор (0.1, 0, 0.7, 0, 0.2).\n",
    "\n",
    "Для чего, например, это нужно: имея векторное представление для текстов, тексты можно сравнивать, рекомендовать похожие.\n",
    "\n",
    "Условие: даны только набор текстов и количество тем."
   ]
  },
  {
   "cell_type": "markdown",
   "metadata": {
    "id": "XJdIgvb5B1wd"
   },
   "source": [
    "## Немного теории"
   ]
  },
  {
   "cell_type": "markdown",
   "metadata": {
    "id": "mipLvBaZB1we"
   },
   "source": [
    "Будем представлять текст как неупорядоченный набор слов (Bag-of-words model). Предположим, что имеется K тегов и для каждого тега выбрано распределение $\\phi_k$ над списком всевозможных слов (словарем из N слов). По сути, каждое $\\phi_k$ - это вектор длины N из неотрицательных величин, в сумме дающих 1. Вектора $\\phi_k$ независимы и моделируются распредеделением Дирихле $Dir(\\beta)$. Теперь, чтобы собрать текст d из $n$ слов, будем действовать по следующей схеме:\n",
    "\n",
    "\n",
    "* выберем распредление для тегов $\\theta_d$. Вновь, $\\theta_d$ - это вектор длины K из неотрицательных величин, в сумме дающих 1. Поэтому естественно брать $\\theta_d \\sim Dir(\\theta | \\alpha)$\n",
    "\n",
    "* Для i от 1 до n:\n",
    "  * выберем тег $z_i$ согласно распределению $\\theta_d$\n",
    "  * выберем слово $w_i$ из распределения для данного тега, т.е. $w_i \\sim \\phi_{z_i}$\n",
    "  * добавляем слово $w_i$ в текст.\n",
    "\n",
    "Полученная модель называется моделью LDA (Latent Dirichlet Allocation). Описанная  схема задает совместное распределение скрытых и наблюдаемых параметров по всем текстам корпуса размера M в виде:\n",
    "\n",
    "\n",
    "$p(\\textbf{w}, \\textbf{z}, \\theta, \\phi | \\alpha, \\beta) = Dir(\\theta | \\alpha) Dir(\\phi|\\beta)Cat(\\textbf{z}|\\theta)Cat(\\textbf{w}|\\phi_z)$.\n",
    "\n",
    "Здесь $\\textbf{w}$ и $\\textbf{z}$ обозначают вектора слов и тегов по всем текстам, $\\theta$ - набор из $\\theta_d$ для каждого документа (матрица $M\\times K$), $\\phi$ - набор из $\\phi_k$ для каждого тега (матрица $K\\times N$).\n"
   ]
  },
  {
   "cell_type": "markdown",
   "metadata": {
    "id": "D9yKUGWnXCYm"
   },
   "source": [
    "![img](https://www.researchgate.net/publication/336065245/figure/fig1/AS:807371718815752@1569503826964/Latent-Dirichlet-allocation-LDA-process-and-its-two-outputs-a-LDA-document.ppm)"
   ]
  },
  {
   "cell_type": "markdown",
   "metadata": {
    "id": "hiXKW7NQWeO8"
   },
   "source": [
    "Наша задача - восстановить распределение $p(\\textbf{z}, \\theta, \\phi | \\textbf{w}, \\alpha, \\beta)$.\n",
    "\n",
    "\n",
    "Немного упростим жизнь, и поставим себе задачей восстановить распределение $p(\\textbf{z} | \\textbf{w}, \\alpha, \\beta) = \\int\\int p(\\textbf{z}, \\theta, \\phi | \\textbf{w}, \\alpha, \\beta)\\textrm{d}\\theta\\textrm{d}\\phi$.\n",
    "\n",
    "В этот момент на помощь приходить алгоритм Gibbs Sampling. Напомним, для оценки набора парамеров $\\textbf{z} = (z_1, z_2, ..., z_m)$ используется схема:\n",
    "\n",
    "$z_i^{(t)} \\sim p(z_i^{(t)}\\ | \\ z_1=z_1^{t}, ..., z_{i-1}=z_{i-1}^{t},\n",
    "z_{i+1}=z_{i+1}^{t-1}, z_{m}=z_{m}^{t-1})$."
   ]
  },
  {
   "cell_type": "markdown",
   "metadata": {
    "id": "aQeReuG_aDI7"
   },
   "source": [
    "Условные распределения выводятся так. Сначала замечаем, что\n",
    "\n",
    "$p(z_i|\\textbf{z}_{\\hat{i}}, \\textbf{w}, \\alpha, \\beta) = \\frac{p(z_i,\\textbf{z}_{\\hat{i}}, \\textbf{w}| \\alpha, \\beta)}{p(\\textbf{z}_{\\hat{i}}, \\textbf{w}| \\alpha, \\beta)}  = \\frac{p(\\textbf{z}, \\textbf{w}| \\alpha, \\beta)}{p(\\textbf{z}_{\\hat{i}}, \\textbf{w}_{\\hat{i}}| \\alpha, \\beta)  p(w_i|\\alpha, \\beta)}$.\n",
    "\n",
    "Здесь $\\textbf{z}_{\\hat{i}}$, $\\textbf{w}_{\\hat{i}}$ - вектора без $i$-oй копмоненты. "
   ]
  },
  {
   "cell_type": "markdown",
   "metadata": {
    "id": "yA0r2c_ob2c9"
   },
   "source": [
    "Далее расписываем:\n",
    "\n",
    "$p(\\textbf{z}, \\textbf{w}| \\alpha, \\beta) = \\int\\int p(\\textbf{z}, \\textbf{w}, \\theta, \\phi| \\alpha, \\beta)\\textrm{d}\\theta\\textrm{d}\\phi = \\int\\int Dir(\\theta | \\alpha) Dir(\\phi|\\beta)Cat(\\textbf{z}|\\theta)Cat(\\textbf{w}|\\phi_z)\\textrm{d}\\theta\\textrm{d}\\phi = \n",
    "\\int Dir(\\theta | \\alpha) Cat(\\textbf{z}|\\theta)\\textrm{d}\\theta \\int Dir(\\phi|\\beta)Cat(\\textbf{w}|\\phi_z)\\textrm{d}\\phi$\n",
    "\n",
    "и обнаруживаем, что оба интеграла в последнем выражении вычисляются аналитически. Для примера первый:\n",
    "\n",
    "$\\int Dir(\\theta | \\alpha) Cat(\\textbf{z}|\\theta)\\textrm{d}\\theta = \\prod\\limits_d \\int Dir(\\theta_d | \\alpha) Cat(\\textbf{z}_d|\\theta_d)\\textrm{d}\\theta_d = \\prod\\limits_d \\int \\frac{1}{B(\\alpha)}\\prod\\limits_k \\theta_{d, k}^{\\alpha-1}\\prod\\limits_i \\theta_{d, z_i}\\textrm{d}\\theta_d = \\prod\\limits_d\\frac{1}{B(\\alpha)}\\int\\prod\\limits_k \\theta_{d, k}^{n_{d, k} + \\alpha - 1}\\textrm{d}\\theta_d = \\prod\\limits_d \\frac{B(n_{d,\\cdot} + \\alpha)}{B(\\alpha)}$.\n",
    "\n",
    "Здесь  $n_{d,k}$ - количество тэгов $k$ в тексте $d$, $n_{d,\\cdot}$ - вектор длины $K$ из этих величин.\n",
    "\n",
    "Аналогично, второй интеграл \n",
    "$\\int Dir(\\phi|\\beta)Cat(\\textbf{w}|\\phi_z)\\textrm{d}\\phi = \\prod\\limits_k \\frac{B(n_{k,\\cdot} + \\beta)}{B(\\beta)}$,\n",
    "\n",
    "где $n_{k,\\cdot}$ - вектор длины $N$ встречаемости слов внутри тэга $k$.\n",
    "\n",
    "Получаем: \n",
    "\n",
    "$p(\\textbf{z}, \\textbf{w}| \\alpha, \\beta) = \\prod\\limits_d \\frac{B(n_{d,\\cdot} + \\alpha)}{B(\\alpha)} \\prod\\limits_k \\frac{B(n_{k,\\cdot} + \\beta)}{B(\\beta)}$.\n",
    "\n",
    "Теперь\n",
    "$p(z_i|\\textbf{z}_{\\hat{i}}, \\textbf{w}, \\alpha, \\beta) \\propto \\prod\\limits_d \\frac{B(n_{d,\\cdot} + \\alpha)}{B(n_{d,\\cdot}^{\\hat{i}} + \\alpha)} \\prod\\limits_k \\frac{B(n_{k,\\cdot} + \\beta)}{B(n_{k,\\cdot}^{\\hat{i}} + \\beta)}$.\n",
    "\n",
    "Знак $\\propto$ означает пропорциональность с точностью до общего множителя $p(w_i|\\alpha, \\beta)$. Векторы $n_{d,\\cdot}^{\\hat{i}}$ и $n_{k,\\cdot}^{\\hat{i}}$ получены из векторов $n_{d,\\cdot}$ и $n_{k,\\cdot}$ после выбрасывания $z_i$. \n",
    "\n",
    "Выражение упрощается дальше, расписывая бета-функцию через гамма-функции. Напомним,\n",
    "$B(x_1, ..., x_m) = \\frac{\\Gamma(x_1)\\cdot...\\cdot\\Gamma(x_m)}{\\Gamma(x_1 + ... + x_m)}$, а также $\\Gamma(n) = (n-1)\\Gamma(n-1)$. Получим:\n",
    "\n",
    "$p(z_i=k |\\textbf{z}_{\\hat{i}}, \\textbf{w}, \\alpha, \\beta) \\propto (n_{d_i, k}^{\\hat{i}} + \\alpha_k) \\frac{n_{k, w_i}^{\\hat{i}} + \\beta_{w_i}}{\\sum\\limits_{w}(n_{k, w}^{\\hat{i}} + \\beta_{w})}$.\n"
   ]
  },
  {
   "cell_type": "markdown",
   "metadata": {
    "id": "NiYEQ_IkZUim"
   },
   "source": [
    "С этого места можно полностью собрать алгоритм моделирования плотности $p(\\textbf{z}| \\textbf{w}, \\alpha, \\beta)$. Введем  обозначение $n_k$ - количество слов, отнесенных к тегу $k$, $W$ - общее количество слов в корпусе, $\\beta_{sum} = \\sum\\limits_w\\beta_w$\n",
    "\n",
    "Алгоритм:\n",
    "\n",
    "* заведем счетчики $n_{k, w}$, $n_{d, k}$, $n_k$\n",
    "* случайным образом расставим теги словам, обновим счетчики $n_{k, w}$, $n_{d, k}$, $n_k$\n",
    "* пока не сойдемся к стационарному режиму:\n",
    "  * для каждого $i$ от 1 до $W$:\n",
    "      * для каждого $k$ от 1 до $K$:\n",
    "        * $I = I\\{z_i = k\\}$ (индикатор)\n",
    "        * вычисляем $p_k = (n_{d_i, k} + \\alpha_k - I) \\frac{n_{k, w_i} + \\beta_{w_i} - I}{n_k + \\beta_{sum} - I}$\n",
    "      * сэмплим новый $z_i$ из полученного распределения $(p_1, ..., p_K)$\n",
    "      * обновляем счетчики для учета обновленого значения $z_i$\n",
    "\n",
    "На практике удобно реализовавать так:\n",
    "\n",
    "* заведем счетчики $n_{k, w}$, $n_{d, k}$, $n_k$, заполненные нулями\n",
    "* случайным образом расставим теги словам, обновим счетчики $n_{k, w}$, $n_{d, k}$, $n_k$\n",
    "* пока не сойдемся к стационарному режиму:\n",
    "  * для каждого $i$ от 1 до $W$:\n",
    "      * $n_{d_i, z_i} \\mathrel{-}= 1$, $n_{z_i, w_i} \\mathrel{-}= 1$, $n_{z_i} \\mathrel{-}= 1$\n",
    "      * для каждого $k$ от 1 до $K$:\n",
    "        * вычисляем $p_k = (n_{d, k} + \\alpha_k) \\frac{n_{k, w_i} + \\beta_{w_i}}{n_k + \\beta_{sum}}$\n",
    "      * сэмплим новый $z_i$ из полученного распределения $(p_1, ..., p_K)$\n",
    "      * $n_{d_i, z_i} \\mathrel{+}= 1$, $n_{z_i, w_i} \\mathrel{+}= 1$, $n_{z_i} \\mathrel{+}= 1$\n",
    "\n",
    "\n",
    "\n"
   ]
  },
  {
   "cell_type": "markdown",
   "metadata": {
    "id": "eaV85RF1gd6l"
   },
   "source": [
    "Восстановив распредление для $\\textbf{z}$, можем оценить $\\theta$ и $\\phi$, о которых мы ненадолго забыли. Оценить можно, например, через матожидание по апостериорным распределениям. Получите формулы самостоятельно!"
   ]
  },
  {
   "cell_type": "markdown",
   "metadata": {
    "id": "K13WQakft3kk"
   },
   "source": [
    "Литература:\n",
    "\n",
    "http://u.cs.biu.ac.il/~89-680/darling-lda.pdf\n",
    "\n",
    "https://www.cs.cmu.edu/~mgormley/courses/10701-f16/slides/lecture20-topic-models.pdf"
   ]
  },
  {
   "cell_type": "markdown",
   "metadata": {
    "id": "S1M8TVaPiIwd"
   },
   "source": [
    "Перейдем к практике."
   ]
  },
  {
   "cell_type": "markdown",
   "metadata": {
    "id": "KKGHWSSiB1we"
   },
   "source": [
    "## Датасет\n",
    "\n",
    "Возьмем популярный датасет [20 Newsgroups](http://qwone.com/~jason/20Newsgroups/), встроенный в пакет ```sklearn```. Датасет состоит из ~20К текстов, классифицированных на 20 категорий. Датасет разбит на ```train``` и ```test```. Для загрузки используем  модуль ```fetch_20newsgroups```, в параметрах указать, что мета информацию о тексте загружать не нужно:"
   ]
  },
  {
   "cell_type": "code",
   "execution_count": 1,
   "metadata": {
    "colab": {
     "base_uri": "https://localhost:8080/",
     "height": 51
    },
    "id": "ghK1srgpB1wf",
    "outputId": "a64b1478-d337-44eb-8413-841ea0f70888"
   },
   "outputs": [],
   "source": [
    "import numpy as np\n",
    "from sklearn.datasets import fetch_20newsgroups\n",
    "\n",
    "newsgroups_train = fetch_20newsgroups(subset='train', remove=('headers', 'footers', 'quotes'))"
   ]
  },
  {
   "cell_type": "markdown",
   "metadata": {
    "id": "_BSEchmRB1wh"
   },
   "source": [
    "Выведем список категорий текстов:"
   ]
  },
  {
   "cell_type": "code",
   "execution_count": 2,
   "metadata": {
    "colab": {
     "base_uri": "https://localhost:8080/",
     "height": 363
    },
    "id": "lR3knXluB1wi",
    "outputId": "d6b41c1a-21d8-4baf-de17-f6c8f7ce8f1f"
   },
   "outputs": [
    {
     "data": {
      "text/plain": [
       "['alt.atheism',\n",
       " 'comp.graphics',\n",
       " 'comp.os.ms-windows.misc',\n",
       " 'comp.sys.ibm.pc.hardware',\n",
       " 'comp.sys.mac.hardware',\n",
       " 'comp.windows.x',\n",
       " 'misc.forsale',\n",
       " 'rec.autos',\n",
       " 'rec.motorcycles',\n",
       " 'rec.sport.baseball',\n",
       " 'rec.sport.hockey',\n",
       " 'sci.crypt',\n",
       " 'sci.electronics',\n",
       " 'sci.med',\n",
       " 'sci.space',\n",
       " 'soc.religion.christian',\n",
       " 'talk.politics.guns',\n",
       " 'talk.politics.mideast',\n",
       " 'talk.politics.misc',\n",
       " 'talk.religion.misc']"
      ]
     },
     "execution_count": 2,
     "metadata": {},
     "output_type": "execute_result"
    }
   ],
   "source": [
    "newsgroups_train.target_names"
   ]
  },
  {
   "cell_type": "markdown",
   "metadata": {
    "id": "unhqlZciB1wl"
   },
   "source": [
    "Атрибут ```traget``` хранит номера категорий для текстов из обучающей выборки:"
   ]
  },
  {
   "cell_type": "code",
   "execution_count": 3,
   "metadata": {
    "colab": {
     "base_uri": "https://localhost:8080/",
     "height": 34
    },
    "id": "PNjAq0D4B1wl",
    "outputId": "97f526ec-c9f7-466d-aee7-2df3428b26a9"
   },
   "outputs": [
    {
     "data": {
      "text/plain": [
       "array([ 7,  4,  4,  1, 14, 16, 13,  3,  2,  4])"
      ]
     },
     "execution_count": 3,
     "metadata": {},
     "output_type": "execute_result"
    }
   ],
   "source": [
    "newsgroups_train.target[:10]"
   ]
  },
  {
   "cell_type": "markdown",
   "metadata": {
    "id": "OjzuWGdBB1wp"
   },
   "source": [
    "Доступ к самим текстам через атрибут ```data```. Выведем текст и категорию случайного примера из обучающего датасета:"
   ]
  },
  {
   "cell_type": "code",
   "execution_count": 4,
   "metadata": {
    "colab": {
     "base_uri": "https://localhost:8080/",
     "height": 259
    },
    "id": "etlhxjk0B1wq",
    "outputId": "56847531-dd5f-4ad8-dcac-28c83b2a4c4b"
   },
   "outputs": [
    {
     "name": "stdout",
     "output_type": "stream",
     "text": [
      "Topic = rec.motorcycles\n",
      "\n",
      "hey... I'm pretty new to the wonderful world of motorcycles... I just\n",
      "bought\n",
      "a used 81 Kaw KZ650 CSR from a friend.... I was just wondering what kind of\n",
      "\n",
      "saddle bags I could get for it (since I know nothing about them)  are there\n",
      "bags for the gas tank?  how much would some cost, and how much do they\n",
      "hold?\n",
      "thanks for your advice!!!  I may be new to riding, but I love it\n",
      "already!!!!\n",
      ":)\n",
      "\n",
      "\n"
     ]
    }
   ],
   "source": [
    "n = 854\n",
    "print('Topic = {0}\\n'.format(newsgroups_train.target_names[newsgroups_train.target[n]]))\n",
    "print(newsgroups_train.data[n])"
   ]
  },
  {
   "cell_type": "markdown",
   "metadata": {
    "id": "fLheZ8pTB1wx"
   },
   "source": [
    "## Векторное представление текста\n",
    "\n",
    "Представим текст как вектор индикаторов вхождений слов из некоторого словаря в текст. Это простейшая модель BOF. \n",
    "\n",
    "Сформируем словарь на основе нашего набора текстов. Для этого используем модуль ```CountVectorizer```:"
   ]
  },
  {
   "cell_type": "code",
   "execution_count": 3,
   "metadata": {
    "colab": {
     "base_uri": "https://localhost:8080/",
     "height": 259
    },
    "id": "-eXBAq3SB1wy",
    "outputId": "37dca253-a58a-4390-af8f-43a8d751366d"
   },
   "outputs": [
    {
     "data": {
      "text/plain": [
       "CountVectorizer(analyzer='word', binary=False, decode_error='strict',\n",
       "        dtype=<class 'numpy.int64'>, encoding='utf-8', input='content',\n",
       "        lowercase=True, max_df=1.0, max_features=None, min_df=0.0021,\n",
       "        ngram_range=(1, 1), preprocessor=None,\n",
       "        stop_words=frozenset({'should', 'yours', 'both', 'everything', 'sometime', 'were', 'made', 'throughout', 'nobody', 'beyond', 'get', 'their', 'ever', 'ten', 'onto', 'our', 'some', 'from', 'five', 'forty', 'when', 'six', 'anyone', 'fire', 'top', 'name', 'do', 'during', 'while', 'her', 'off', 'whatever...ribe', 'via', 'never', 'something', 'former', 'except', 'without', 'amoungst', 'ie', 'cant', 'out'}),\n",
       "        strip_accents=None, token_pattern='(?u)\\\\b\\\\w\\\\w+\\\\b',\n",
       "        tokenizer=None, vocabulary=None)"
      ]
     },
     "execution_count": 3,
     "metadata": {},
     "output_type": "execute_result"
    }
   ],
   "source": [
    "from sklearn.feature_extraction.text import CountVectorizer\n",
    "from sklearn.feature_extraction.stop_words import ENGLISH_STOP_WORDS\n",
    "\n",
    "vectorizer = CountVectorizer(lowercase=True, stop_words=ENGLISH_STOP_WORDS,\n",
    "                             analyzer='word',min_df = 0.0021)\n",
    "vectorizer.fit(newsgroups_train.data)"
   ]
  },
  {
   "cell_type": "markdown",
   "metadata": {
    "id": "WYt0K78cB1w0"
   },
   "source": [
    "Количество проиндексированных слов:"
   ]
  },
  {
   "cell_type": "code",
   "execution_count": 4,
   "metadata": {
    "colab": {
     "base_uri": "https://localhost:8080/",
     "height": 34
    },
    "id": "RjjRR9cTB1w1",
    "outputId": "bd25d0e9-8c2d-437f-e49e-207ca482cc1b"
   },
   "outputs": [
    {
     "data": {
      "text/plain": [
       "5162"
      ]
     },
     "execution_count": 4,
     "metadata": {},
     "output_type": "execute_result"
    }
   ],
   "source": [
    "len(vectorizer.vocabulary_)"
   ]
  },
  {
   "cell_type": "markdown",
   "metadata": {
    "id": "rDTu6nCHB1xJ"
   },
   "source": [
    "Проиндексированные слова и их индексы:"
   ]
  },
  {
   "cell_type": "code",
   "execution_count": 5,
   "metadata": {
    "colab": {
     "base_uri": "https://localhost:8080/",
     "height": 1000
    },
    "id": "0TRxTcoeB1xK",
    "outputId": "56f0a281-46ea-488d-9763-0e288c186069"
   },
   "outputs": [
    {
     "data": {
      "text/plain": [
       "{'wondering': 5099,\n",
       " 'car': 857,\n",
       " 'saw': 4084,\n",
       " 'day': 1335,\n",
       " 'door': 1557,\n",
       " 'sports': 4403,\n",
       " 'looked': 2792,\n",
       " 'late': 2661,\n",
       " 'early': 1607,\n",
       " 'called': 829,\n",
       " 'doors': 1558,\n",
       " 'really': 3800,\n",
       " 'small': 4315,\n",
       " 'addition': 310,\n",
       " 'separate': 4177,\n",
       " 'rest': 3951,\n",
       " 'body': 727,\n",
       " 'know': 2630,\n",
       " 'model': 3016,\n",
       " 'engine': 1688,\n",
       " 'specs': 4383,\n",
       " 'years': 5149,\n",
       " 'production': 3641,\n",
       " 'history': 2264,\n",
       " 'info': 2421,\n",
       " 'looking': 2793,\n",
       " 'mail': 2834,\n",
       " 'fair': 1844,\n",
       " 'number': 3188,\n",
       " 'souls': 4355,\n",
       " 'upgraded': 4882,\n",
       " 'si': 4253,\n",
       " 'clock': 1004,\n",
       " 'shared': 4223,\n",
       " 'experiences': 1795,\n",
       " 'send': 4167,\n",
       " 'brief': 765,\n",
       " 'message': 2947,\n",
       " 'procedure': 3627,\n",
       " 'speed': 4387,\n",
       " 'cpu': 1255,\n",
       " 'rated': 3771,\n",
       " 'add': 307,\n",
       " 'cards': 859,\n",
       " 'heat': 2231,\n",
       " 'hour': 2305,\n",
       " 'usage': 4890,\n",
       " 'floppy': 1958,\n",
       " 'disk': 1513,\n",
       " 'functionality': 2038,\n",
       " '800': 224,\n",
       " 'floppies': 1957,\n",
       " 'especially': 1727,\n",
       " 'requested': 3920,\n",
       " 'days': 1336,\n",
       " 'network': 3140,\n",
       " 'knowledge': 2632,\n",
       " 'base': 624,\n",
       " 'upgrade': 4881,\n",
       " 'haven': 2213,\n",
       " 'answered': 433,\n",
       " 'thanks': 4683,\n",
       " 'folks': 1966,\n",
       " 'mac': 2822,\n",
       " 'plus': 3495,\n",
       " 'finally': 1920,\n",
       " 'gave': 2060,\n",
       " 'weekend': 5043,\n",
       " 'starting': 4430,\n",
       " 'life': 2734,\n",
       " 'way': 5031,\n",
       " '1985': 84,\n",
       " 'market': 2878,\n",
       " 'new': 3144,\n",
       " 'machine': 2823,\n",
       " 'bit': 698,\n",
       " 'sooner': 4348,\n",
       " 'intended': 2470,\n",
       " 'picking': 3436,\n",
       " 'powerbook': 3548,\n",
       " '160': 57,\n",
       " 'maybe': 2906,\n",
       " '180': 62,\n",
       " 'bunch': 798,\n",
       " 'questions': 3735,\n",
       " 'hopefully': 2293,\n",
       " 'somebody': 4340,\n",
       " 'answer': 432,\n",
       " 'does': 1546,\n",
       " 'anybody': 438,\n",
       " 'dirt': 1492,\n",
       " 'round': 4024,\n",
       " 'expected': 1789,\n",
       " 'heard': 2227,\n",
       " 'supposed': 4563,\n",
       " 'make': 2846,\n",
       " 'summer': 4549,\n",
       " 'anymore': 439,\n",
       " 'don': 1555,\n",
       " 'access': 275,\n",
       " 'rumors': 4040,\n",
       " 'price': 3596,\n",
       " 'drops': 1588,\n",
       " 'line': 2749,\n",
       " 'like': 2739,\n",
       " 'ones': 3247,\n",
       " 'duo': 1599,\n",
       " 'just': 2589,\n",
       " 'went': 5050,\n",
       " 'recently': 3814,\n",
       " 'impression': 2381,\n",
       " 'display': 1515,\n",
       " 'probably': 3623,\n",
       " 'got': 2117,\n",
       " '120': 31,\n",
       " 'feel': 1892,\n",
       " 'better': 680,\n",
       " 'looks': 2794,\n",
       " 'great': 2140,\n",
       " 'store': 4471,\n",
       " 'wow': 5122,\n",
       " 'good': 2114,\n",
       " 'opinions': 3263,\n",
       " 'people': 3390,\n",
       " 'use': 4891,\n",
       " 'worth': 5116,\n",
       " 'taking': 4602,\n",
       " 'size': 4294,\n",
       " 'money': 3031,\n",
       " 'hit': 2265,\n",
       " 'active': 296,\n",
       " 'realize': 3798,\n",
       " 'real': 3795,\n",
       " 'subjective': 4512,\n",
       " 'question': 3733,\n",
       " 've': 4934,\n",
       " 'played': 3482,\n",
       " 'machines': 2824,\n",
       " 'computer': 1098,\n",
       " 'figured': 1911,\n",
       " 'actually': 302,\n",
       " 'uses': 4898,\n",
       " 'daily': 1311,\n",
       " 'prove': 3683,\n",
       " 'helpful': 2245,\n",
       " 'perform': 3396,\n",
       " 'advance': 331,\n",
       " 'email': 1659,\n",
       " 'll': 2771,\n",
       " 'post': 3534,\n",
       " 'summary': 4548,\n",
       " 'news': 3147,\n",
       " 'reading': 3790,\n",
       " 'time': 4725,\n",
       " 'finals': 1921,\n",
       " 'corner': 1221,\n",
       " 'tom': 4742,\n",
       " 'edu': 1631,\n",
       " 'electrical': 1651,\n",
       " 'engineering': 1690,\n",
       " 'address': 312,\n",
       " 'phone': 3426,\n",
       " 'information': 2423,\n",
       " 'chip': 947,\n",
       " 'article': 510,\n",
       " 'world': 5110,\n",
       " 'com': 1037,\n",
       " 'understanding': 4856,\n",
       " 'errors': 1720,\n",
       " 'basically': 629,\n",
       " 'known': 2633,\n",
       " 'bugs': 790,\n",
       " 'warning': 5015,\n",
       " 'software': 4328,\n",
       " 'things': 4693,\n",
       " 'checked': 933,\n",
       " 'right': 3988,\n",
       " 'values': 4922,\n",
       " 'aren': 484,\n",
       " 'set': 4200,\n",
       " 'till': 4723,\n",
       " 'launch': 2666,\n",
       " 'fix': 1941,\n",
       " 'code': 1021,\n",
       " 'possibly': 3533,\n",
       " 'tell': 4649,\n",
       " 'crew': 1271,\n",
       " 'ok': 3243,\n",
       " '213': 108,\n",
       " 'ignore': 2347,\n",
       " 'course': 1246,\n",
       " 'term': 4661,\n",
       " 'defined': 1378,\n",
       " 'doubt': 1562,\n",
       " 'using': 4899,\n",
       " 'quote': 3741,\n",
       " 'read': 3785,\n",
       " 'argument': 491,\n",
       " 'weapons': 5037,\n",
       " 'mass': 2888,\n",
       " 'destruction': 1440,\n",
       " 'commonly': 1056,\n",
       " 'understood': 4857,\n",
       " 'switching': 4588,\n",
       " 'topics': 4754,\n",
       " 'point': 3499,\n",
       " 'allowed': 383,\n",
       " 'later': 2663,\n",
       " 'analysis': 412,\n",
       " 'given': 2092,\n",
       " 'consider': 1143,\n",
       " 'class': 989,\n",
       " 'responded': 3945,\n",
       " 'request': 3919,\n",
       " 'treatment': 4796,\n",
       " 'couldn': 1235,\n",
       " 'thank': 4682,\n",
       " 'directly': 1488,\n",
       " 'thought': 4701,\n",
       " 'publicly': 3701,\n",
       " 'sure': 4566,\n",
       " 'glad': 2096,\n",
       " 'instead': 2452,\n",
       " 'rm': 3999,\n",
       " 'trying': 4821,\n",
       " 'delete': 1388,\n",
       " 'file': 1913,\n",
       " 'september': 4182,\n",
       " 'hmmm': 2272,\n",
       " 'shows': 4250,\n",
       " 'scsi': 4124,\n",
       " 'range': 3764,\n",
       " 'controller': 1189,\n",
       " 'burst': 805,\n",
       " 'note': 3172,\n",
       " 'increase': 2396,\n",
       " 'quadra': 3724,\n",
       " 'version': 4944,\n",
       " 'exist': 1777,\n",
       " 'pc': 3380,\n",
       " 'mode': 3015,\n",
       " '16': 56,\n",
       " 'wide': 5058,\n",
       " 'fast': 1867,\n",
       " '32': 143,\n",
       " '15': 51,\n",
       " 'data': 1325,\n",
       " 'twice': 4836,\n",
       " 'correct': 1227,\n",
       " 'reach': 3780,\n",
       " '20': 97,\n",
       " 'faster': 1868,\n",
       " 'ide': 2334,\n",
       " '96': 242,\n",
       " 'facts': 1838,\n",
       " 'posted': 3535,\n",
       " 'newsgroup': 3148,\n",
       " 'ibm': 2328,\n",
       " 'sheet': 4227,\n",
       " 'available': 586,\n",
       " 'ftp': 2033,\n",
       " 'aim': 364,\n",
       " 'stanford': 4423,\n",
       " '36': 149,\n",
       " '44': 165,\n",
       " 'report': 3907,\n",
       " 'compare': 1068,\n",
       " 'txt': 4839,\n",
       " 'problem': 3625,\n",
       " 'documented': 1541,\n",
       " 'apple': 454,\n",
       " 'said': 4059,\n",
       " 'maximum': 2905,\n",
       " 'slower': 4313,\n",
       " 'interface': 2479,\n",
       " 'think': 4694,\n",
       " 'driven': 1581,\n",
       " 'true': 4814,\n",
       " 'win': 5070,\n",
       " 'downloaded': 1566,\n",
       " 'icons': 2332,\n",
       " 'bmp': 720,\n",
       " 'figure': 1910,\n",
       " 'change': 913,\n",
       " 'help': 2243,\n",
       " 'appreciated': 464,\n",
       " 'thanx': 4684,\n",
       " 'board': 722,\n",
       " 'year': 5148,\n",
       " 'work': 5103,\n",
       " 'licensing': 2731,\n",
       " 'technologies': 4641,\n",
       " 'owners': 3307,\n",
       " 'compression': 1094,\n",
       " 'technology': 4642,\n",
       " 'writing': 5128,\n",
       " 'memory': 2935,\n",
       " 'lost': 2802,\n",
       " 'reference': 3832,\n",
       " 'wrong': 5131,\n",
       " 'problems': 3626,\n",
       " 'hard': 2202,\n",
       " 'say': 4085,\n",
       " 'fault': 1875,\n",
       " 'icon': 2331,\n",
       " 'usually': 4903,\n",
       " 'mentioned': 2939,\n",
       " 'expansion': 1786,\n",
       " 'utility': 4907,\n",
       " 'expand': 1784,\n",
       " 'compressed': 1093,\n",
       " 'unless': 4872,\n",
       " 'installed': 2448,\n",
       " 'product': 3640,\n",
       " 'unlikely': 4874,\n",
       " 'holes': 2278,\n",
       " 'related': 3858,\n",
       " 'fixed': 1942,\n",
       " 'sad': 4055,\n",
       " 'makes': 2848,\n",
       " 'buy': 814,\n",
       " 'hey': 2250,\n",
       " 'competition': 1076,\n",
       " '1978': 77,\n",
       " 'runs': 4043,\n",
       " 'paint': 3323,\n",
       " 'brown': 780,\n",
       " 'orange': 3276,\n",
       " 'oil': 3241,\n",
       " '1st': 96,\n",
       " 'shop': 4239,\n",
       " 'sold': 4331,\n",
       " 'bike': 689,\n",
       " 'owner': 3306,\n",
       " 'want': 5006,\n",
       " 'thinking': 4695,\n",
       " 'nice': 3154,\n",
       " 'stable': 4411,\n",
       " 'tx': 4838,\n",
       " 'org': 3284,\n",
       " 'dod': 1543,\n",
       " 'yep': 5151,\n",
       " 'pretty': 3589,\n",
       " 'jew': 2551,\n",
       " 'understand': 4855,\n",
       " 'jewish': 2552,\n",
       " 'jews': 2553,\n",
       " 'believe': 663,\n",
       " 'case': 872,\n",
       " 'moral': 3041,\n",
       " 'follow': 1967,\n",
       " 'mankind': 2858,\n",
       " 'decide': 1356,\n",
       " 'fall': 1847,\n",
       " 'believed': 664,\n",
       " 'required': 3923,\n",
       " 'modern': 3022,\n",
       " 'judaism': 2576,\n",
       " 'interpretation': 2486,\n",
       " 'lead': 2680,\n",
       " 'morality': 3042,\n",
       " 'essence': 1729,\n",
       " 'biblical': 685,\n",
       " 'man': 2851,\n",
       " 'christian': 957,\n",
       " 'necessarily': 3125,\n",
       " 'indicate': 2407,\n",
       " 'outside': 3303,\n",
       " 'relationship': 3862,\n",
       " 'trouble': 4811,\n",
       " 'created': 1264,\n",
       " 'image': 2358,\n",
       " 'means': 2915,\n",
       " 'different': 1475,\n",
       " 'come': 1040,\n",
       " 'conclusion': 1112,\n",
       " 'wants': 5009,\n",
       " 'script': 4121,\n",
       " 'foundation': 2007,\n",
       " 'mix': 3009,\n",
       " 'living': 2770,\n",
       " 'christ': 956,\n",
       " 'example': 1762,\n",
       " 'little': 2766,\n",
       " 'jesus': 2548,\n",
       " 'person': 3410,\n",
       " 'recorded': 3822,\n",
       " 'followers': 1969,\n",
       " 'references': 3833,\n",
       " 'revelation': 3970,\n",
       " 'aside': 514,\n",
       " 'second': 4137,\n",
       " 'hand': 2182,\n",
       " 'worse': 5113,\n",
       " 'attempt': 558,\n",
       " 'christianity': 958,\n",
       " 'initially': 2431,\n",
       " 'bible': 684,\n",
       " 'interpret': 2485,\n",
       " 'humanity': 2317,\n",
       " 'guess': 2165,\n",
       " 'faith': 1846,\n",
       " 'comes': 1041,\n",
       " 'inherent': 2427,\n",
       " 'absolute': 262,\n",
       " 'multiple': 3082,\n",
       " 'codes': 1022,\n",
       " 'founded': 2008,\n",
       " 'parent': 3338,\n",
       " 'child': 943,\n",
       " 'assume': 533,\n",
       " 'simply': 4280,\n",
       " 'told': 4740,\n",
       " 'pub': 3697,\n",
       " 'bar': 620,\n",
       " 'children': 944,\n",
       " 'quite': 3740,\n",
       " 'happy': 2201,\n",
       " 'animals': 423,\n",
       " 'analogy': 411,\n",
       " 'hold': 2274,\n",
       " 'water': 5027,\n",
       " 'knows': 2634,\n",
       " 'type': 4840,\n",
       " 'young': 5155,\n",
       " 'gets': 2085,\n",
       " 'older': 3246,\n",
       " 'david': 1332,\n",
       " 'religion': 3874,\n",
       " 'description': 1422,\n",
       " 'external': 1823,\n",
       " 'tank': 4609,\n",
       " 'option': 3273,\n",
       " 'deleted': 1389,\n",
       " 'ken': 2600,\n",
       " 'let': 2710,\n",
       " 'options': 3275,\n",
       " 'list': 2758,\n",
       " 'today': 4739,\n",
       " '23': 114,\n",
       " 'edition': 1628,\n",
       " 'york': 5154,\n",
       " 'times': 4727,\n",
       " 'reports': 3910,\n",
       " 'panel': 3329,\n",
       " 'proposals': 3671,\n",
       " 'dropped': 1587,\n",
       " 'fuel': 2034,\n",
       " 'tanks': 4610,\n",
       " 'used': 4892,\n",
       " 'space': 4365,\n",
       " 'building': 792,\n",
       " 'station': 4441,\n",
       " 'existing': 1781,\n",
       " 'shuttle': 4252,\n",
       " 'wings': 5076,\n",
       " 'tail': 4599,\n",
       " 'removed': 3889,\n",
       " 'currently': 1298,\n",
       " 'considered': 1147,\n",
       " 'presented': 3577,\n",
       " 'meeting': 2928,\n",
       " 'yesterday': 5153,\n",
       " 'reported': 3908,\n",
       " 'low': 2811,\n",
       " 'cost': 1233,\n",
       " 'approach': 465,\n",
       " 'studied': 4503,\n",
       " 'team': 4631,\n",
       " 'teams': 4632,\n",
       " 'supporting': 4560,\n",
       " 'crystal': 1287,\n",
       " 'city': 978,\n",
       " 'site': 4289,\n",
       " 'locations': 2780,\n",
       " 'helping': 2246,\n",
       " 'activities': 298,\n",
       " 'key': 2606,\n",
       " 'features': 1883,\n",
       " 'bus': 806,\n",
       " 'developed': 1451,\n",
       " 'qualified': 3725,\n",
       " 'provides': 3689,\n",
       " 'propulsion': 3675,\n",
       " 'communications': 1059,\n",
       " 'management': 2854,\n",
       " 'air': 367,\n",
       " 'force': 1983,\n",
       " 'power': 3547,\n",
       " 'capability': 849,\n",
       " 'obtained': 3209,\n",
       " 'solar': 4329,\n",
       " 'provide': 3687,\n",
       " 'vehicle': 4935,\n",
       " 'environment': 1709,\n",
       " 'missions': 3003,\n",
       " 'source': 4358,\n",
       " '30': 136,\n",
       " 'human': 2316,\n",
       " 'opposed': 3268,\n",
       " 'old': 3245,\n",
       " 'achieved': 287,\n",
       " 'common': 1055,\n",
       " 'module': 3026,\n",
       " 'modified': 3024,\n",
       " 'lab': 2639,\n",
       " 'ports': 3524,\n",
       " 'added': 308,\n",
       " 'international': 2483,\n",
       " 'partners': 3351,\n",
       " 'labs': 2643,\n",
       " 'place': 3462,\n",
       " '60': 191,\n",
       " 'modules': 3027,\n",
       " 'permanent': 3403,\n",
       " 'presence': 3574,\n",
       " '3rd': 156,\n",
       " 'assured': 540,\n",
       " 'return': 3963,\n",
       " 'freedom': 2020,\n",
       " 'derived': 1417,\n",
       " 'based': 626,\n",
       " 'mike': 2967,\n",
       " 'alot': 387,\n",
       " 'design': 1427,\n",
       " 'love': 2807,\n",
       " 'assumes': 535,\n",
       " 'assembly': 524,\n",
       " '51': 180,\n",
       " 'orbit': 3277,\n",
       " 'build': 791,\n",
       " 'occurs': 3221,\n",
       " 'initial': 2430,\n",
       " 'research': 3928,\n",
       " 'reached': 3781,\n",
       " 'adopted': 327,\n",
       " 'non': 3162,\n",
       " 'language': 2653,\n",
       " '10': 11,\n",
       " 'keeping': 2597,\n",
       " 'supply': 4557,\n",
       " '14': 43,\n",
       " '2nd': 135,\n",
       " 'control': 1187,\n",
       " 'finish': 1929,\n",
       " '24': 116,\n",
       " 'systems': 4595,\n",
       " 'exception': 1766,\n",
       " 'major': 2844,\n",
       " 'changes': 915,\n",
       " 'reduced': 3828,\n",
       " 'prices': 3598,\n",
       " 'forsale': 2001,\n",
       " 'behalf': 657,\n",
       " 'brother': 777,\n",
       " 'moving': 3069,\n",
       " 'moved': 3064,\n",
       " 'offer': 3228,\n",
       " 'black': 704,\n",
       " 'portable': 3521,\n",
       " 'purchased': 3712,\n",
       " '12': 30,\n",
       " '1000': 13,\n",
       " 'dual': 1596,\n",
       " 'cassette': 875,\n",
       " 'player': 3483,\n",
       " 'fm': 1964,\n",
       " 'band': 614,\n",
       " 'graphics': 2135,\n",
       " 'high': 2255,\n",
       " 'tape': 4612,\n",
       " 'deck': 1361,\n",
       " 'sound': 4356,\n",
       " 'bet': 678,\n",
       " '80': 223,\n",
       " '25': 119,\n",
       " 'japan': 2539,\n",
       " 'includes': 2391,\n",
       " '50': 177,\n",
       " 'hair': 2178,\n",
       " 'head': 2217,\n",
       " 'ask': 515,\n",
       " 'bag': 607,\n",
       " 'leather': 2692,\n",
       " 'brand': 757,\n",
       " 'speeds': 4388,\n",
       " 'extra': 1824,\n",
       " 'angle': 420,\n",
       " 'dry': 1592,\n",
       " 'iron': 2512,\n",
       " 'contact': 1160,\n",
       " 'reply': 3906,\n",
       " 'included': 2390,\n",
       " 'reasonable': 3803,\n",
       " 'look': 2791,\n",
       " 'happened': 2198,\n",
       " 'japanese': 2540,\n",
       " 'citizens': 977,\n",
       " 'war': 5010,\n",
       " 'ii': 2350,\n",
       " 'prepared': 3573,\n",
       " 'stick': 4460,\n",
       " 'camp': 836,\n",
       " 'trial': 4800,\n",
       " 'short': 4240,\n",
       " 'step': 4454,\n",
       " 'nazis': 3116,\n",
       " 'originally': 3292,\n",
       " 'final': 1919,\n",
       " 'solution': 4336,\n",
       " 'afford': 342,\n",
       " 'run': 4041,\n",
       " 'camps': 839,\n",
       " 'caused': 886,\n",
       " 'total': 4759,\n",
       " 'weren': 5051,\n",
       " 'generally': 2071,\n",
       " 'died': 1469,\n",
       " 'disease': 1511,\n",
       " 'certainly': 904,\n",
       " 'tiff': 4721,\n",
       " 'works': 5107,\n",
       " 'led': 2698,\n",
       " 'programs': 3652,\n",
       " 'poor': 3514,\n",
       " 'writers': 5126,\n",
       " 'making': 2849,\n",
       " 'bizarre': 702,\n",
       " 'files': 1915,\n",
       " 'load': 2772,\n",
       " 'images': 2359,\n",
       " 'save': 4080,\n",
       " 'general': 2070,\n",
       " 'despite': 1436,\n",
       " 'fact': 1834,\n",
       " 'saying': 4086,\n",
       " 'goes': 2108,\n",
       " 'worried': 5111,\n",
       " 'abuse': 266,\n",
       " 'unnecessary': 4875,\n",
       " 'format': 1996,\n",
       " 'words': 5102,\n",
       " 'spec': 4374,\n",
       " 'page': 3319,\n",
       " 'emphasis': 1662,\n",
       " 'sort': 4351,\n",
       " 'success': 4524,\n",
       " 'designed': 1428,\n",
       " 'powerful': 3550,\n",
       " 'flexible': 1953,\n",
       " 'expense': 1791,\n",
       " 'takes': 4601,\n",
       " 'effort': 1642,\n",
       " 'handle': 2188,\n",
       " 'specification': 4379,\n",
       " 'application': 456,\n",
       " 'complete': 1083,\n",
       " 'job': 2555,\n",
       " 'able': 259,\n",
       " 'import': 2376,\n",
       " 'applications': 457,\n",
       " 'program': 3647,\n",
       " 'won': 5095,\n",
       " 'deal': 1340,\n",
       " 'reasoning': 3805,\n",
       " 'asking': 517,\n",
       " 'kind': 2617,\n",
       " 'rates': 3772,\n",
       " 'single': 4284,\n",
       " 'male': 2850,\n",
       " 'drivers': 1583,\n",
       " 'paying': 3375,\n",
       " 'performance': 3397,\n",
       " 'cars': 870,\n",
       " 'replies': 3905,\n",
       " 'received': 3810,\n",
       " '27': 127,\n",
       " 'close': 1006,\n",
       " '1992': 92,\n",
       " 'dodge': 1544,\n",
       " 'stealth': 4451,\n",
       " 'twin': 4837,\n",
       " 'turbo': 4827,\n",
       " 'tickets': 4718,\n",
       " 'accidents': 277,\n",
       " 'house': 2307,\n",
       " 'taken': 4600,\n",
       " 'defensive': 1375,\n",
       " 'driving': 1585,\n",
       " 'security': 4149,\n",
       " '1500': 53,\n",
       " '500': 178,\n",
       " 'state': 4434,\n",
       " 'farm': 1864,\n",
       " 'insurance': 2459,\n",
       " 'additional': 311,\n",
       " '100': 12,\n",
       " '000': 1,\n",
       " 'policy': 3507,\n",
       " 'standard': 4418,\n",
       " '300': 137,\n",
       " 'bought': 745,\n",
       " 'company': 1066,\n",
       " 'accident': 276,\n",
       " 'ticket': 4717,\n",
       " '11': 23,\n",
       " 'quoted': 3742,\n",
       " 'hope': 2292,\n",
       " 'helps': 2247,\n",
       " 'steve': 4458,\n",
       " 'university': 4869,\n",
       " '45': 166,\n",
       " 'kevin': 2605,\n",
       " 'correctly': 1231,\n",
       " 'asked': 516,\n",
       " 'similar': 4273,\n",
       " 'situation': 4292,\n",
       " 'age': 347,\n",
       " 'record': 3821,\n",
       " 'clean': 993,\n",
       " 'illinois': 2356,\n",
       " 'turn': 4831,\n",
       " 'higher': 2256,\n",
       " 'rate': 3770,\n",
       " 'couple': 1245,\n",
       " 'friends': 2031,\n",
       " 'pay': 3374,\n",
       " 'companies': 1065,\n",
       " 'lucky': 2816,\n",
       " 'dan': 1318,\n",
       " 'motorola': 3057,\n",
       " 'cellular': 895,\n",
       " 'group': 2155,\n",
       " '38': 152,\n",
       " 'usa': 4889,\n",
       " 'cc': 890,\n",
       " 'live': 2767,\n",
       " 'drive': 1580,\n",
       " '89': 233,\n",
       " 'sc': 4089,\n",
       " 'claim': 983,\n",
       " 'stop': 4466,\n",
       " 'signs': 4268,\n",
       " 'violations': 4967,\n",
       " '18': 61,\n",
       " 'months': 3038,\n",
       " 'going': 2109,\n",
       " '85': 229,\n",
       " '55': 185,\n",
       " 'failure': 1843,\n",
       " 'clear': 995,\n",
       " 'damn': 1316,\n",
       " 'light': 2737,\n",
       " 'yellow': 5150,\n",
       " '35': 147,\n",
       " 'didn': 1467,\n",
       " 'liability': 2719,\n",
       " 'comprehensive': 1091,\n",
       " 'roughly': 4023,\n",
       " '92': 237,\n",
       " 'james': 2536,\n",
       " 'law': 2668,\n",
       " 'center': 896,\n",
       " 'disclaimer': 1501,\n",
       " 'engineer': 1689,\n",
       " 'play': 3481,\n",
       " 'calls': 831,\n",
       " 'hell': 2239,\n",
       " 'thing': 4692,\n",
       " 'killing': 2616,\n",
       " 'away': 594,\n",
       " 'gonna': 2113,\n",
       " '61': 194,\n",
       " 'experience': 1793,\n",
       " 'ago': 355,\n",
       " 'interesting': 2477,\n",
       " 'owned': 3305,\n",
       " 'toyota': 4767,\n",
       " 'gt': 2160,\n",
       " 'decided': 1357,\n",
       " 'gift': 2089,\n",
       " '1987': 86,\n",
       " 'liked': 2740,\n",
       " 'handling': 2191,\n",
       " 'appeal': 449,\n",
       " 'personal': 3411,\n",
       " 'ready': 3793,\n",
       " 'buying': 816,\n",
       " 'agent': 351,\n",
       " 'office': 3232,\n",
       " 'happen': 2197,\n",
       " 'slight': 4307,\n",
       " 'newer': 3145,\n",
       " 'lower': 2812,\n",
       " 'risk': 3995,\n",
       " 'division': 1530,\n",
       " 'continue': 1170,\n",
       " 'account': 281,\n",
       " 'double': 1561,\n",
       " 'story': 4476,\n",
       " 'cover': 1250,\n",
       " 'sense': 4171,\n",
       " 'book': 732,\n",
       " 'says': 4087,\n",
       " 'reason': 3802,\n",
       " 'traditional': 4775,\n",
       " 'conservative': 1142,\n",
       " 'eventually': 1751,\n",
       " 'reasons': 3806,\n",
       " 'dealer': 1341,\n",
       " 'interested': 2476,\n",
       " 'tough': 4762,\n",
       " 'pressure': 3585,\n",
       " 'guy': 2172,\n",
       " 'room': 4018,\n",
       " 'equal': 1711,\n",
       " 'monthly': 3037,\n",
       " 'longer': 2790,\n",
       " 'concluded': 1111,\n",
       " 'probability': 3621,\n",
       " 'auto': 578,\n",
       " 'entitled': 1705,\n",
       " 'opinion': 3262,\n",
       " 'navy': 3114,\n",
       " 'mil': 2968,\n",
       " 'imagination': 2360,\n",
       " 'important': 2378,\n",
       " '26': 125,\n",
       " 'turned': 4832,\n",
       " 'immediately': 2365,\n",
       " 'strictly': 4487,\n",
       " 'stayed': 4448,\n",
       " '150': 52,\n",
       " 'pickup': 3437,\n",
       " 'amazing': 399,\n",
       " 'felt': 1900,\n",
       " 'responsible': 3950,\n",
       " '21': 105,\n",
       " 'california': 828,\n",
       " 'violation': 4966,\n",
       " '2000': 99,\n",
       " '28': 129,\n",
       " 'vw': 4994,\n",
       " 'san': 4069,\n",
       " 'jose': 2569,\n",
       " 'getting': 2086,\n",
       " 'vs': 4992,\n",
       " '1986': 85,\n",
       " 'honda': 2287,\n",
       " 'mexico': 2956,\n",
       " 'town': 4764,\n",
       " 'nearby': 3121,\n",
       " 'robert': 4003,\n",
       " 'stack': 4412,\n",
       " 'institute': 2453,\n",
       " 'transportation': 4789,\n",
       " 'studies': 4504,\n",
       " '37': 151,\n",
       " 'saturn': 4079,\n",
       " '64': 199,\n",
       " 'st': 4410,\n",
       " 'date': 1328,\n",
       " 'license': 2729,\n",
       " 'mountain': 3059,\n",
       " 'view': 4956,\n",
       " 'possible': 3532,\n",
       " '415': 162,\n",
       " '1200': 32,\n",
       " 'knock': 2628,\n",
       " 'wood': 5100,\n",
       " 'huge': 2314,\n",
       " 'difference': 1473,\n",
       " 'personally': 3412,\n",
       " 'best': 677,\n",
       " 'towns': 4765,\n",
       " 'distance': 1521,\n",
       " 'boston': 742,\n",
       " 'worst': 5115,\n",
       " '600': 192,\n",
       " '43': 164,\n",
       " '1990': 90,\n",
       " 'chicago': 941,\n",
       " 'coverage': 1251,\n",
       " 'did': 1466,\n",
       " 'miles': 2972,\n",
       " 'lived': 2768,\n",
       " '41': 161,\n",
       " '93': 238,\n",
       " 'month': 3036,\n",
       " 'thats': 4685,\n",
       " 'property': 3667,\n",
       " '250': 120,\n",
       " 'glass': 2097,\n",
       " '39': 154,\n",
       " 'seriously': 4189,\n",
       " 'listed': 2759,\n",
       " 'try': 4820,\n",
       " 'calling': 830,\n",
       " 'dealers': 1342,\n",
       " 'places': 3464,\n",
       " 'changed': 914,\n",
       " 'maintain': 2840,\n",
       " 'careful': 862,\n",
       " 'voltage': 4984,\n",
       " 'signal': 4260,\n",
       " 'output': 3300,\n",
       " 'preferably': 3568,\n",
       " 'factor': 1835,\n",
       " 'resulting': 3959,\n",
       " 'fed': 1886,\n",
       " 'easily': 1612,\n",
       " 'card': 858,\n",
       " 'circuits': 969,\n",
       " 'seen': 4153,\n",
       " 'simple': 4278,\n",
       " 'amplifier': 409,\n",
       " 'practice': 3554,\n",
       " 'sufficiently': 4534,\n",
       " 'nicely': 3155,\n",
       " 'degrees': 1385,\n",
       " 'accuracy': 283,\n",
       " 'exact': 1757,\n",
       " 'entry': 1708,\n",
       " 'parameter': 3335,\n",
       " 'terminal': 4662,\n",
       " 'configuration': 1122,\n",
       " 'loaded': 2773,\n",
       " 'boots': 736,\n",
       " 'tcp': 4625,\n",
       " 'ip': 2509,\n",
       " 'background': 602,\n",
       " 'unix': 4870,\n",
       " 'running': 4042,\n",
       " 'mit': 3007,\n",
       " 'x11r4': 5136,\n",
       " 'sun': 4550,\n",
       " 'window': 5073,\n",
       " 'ncd': 3118,\n",
       " 'login': 2787,\n",
       " 'telnet': 4652,\n",
       " 'session': 4198,\n",
       " 'tried': 4804,\n",
       " 'failed': 1840,\n",
       " 'implementation': 2370,\n",
       " 'edit': 1625,\n",
       " 'matter': 2901,\n",
       " 'containing': 1164,\n",
       " 'manuals': 2861,\n",
       " 'worthless': 5117,\n",
       " 'orders': 3282,\n",
       " 'captain': 854,\n",
       " 'traded': 4772,\n",
       " 'leafs': 2686,\n",
       " 'wasn': 5021,\n",
       " 'rick': 3981,\n",
       " 'thomas': 4698,\n",
       " 'ed': 1622,\n",
       " 'speaking': 4372,\n",
       " 'torn': 4756,\n",
       " 'jersey': 2546,\n",
       " 'claimed': 984,\n",
       " 'flyers': 1962,\n",
       " 'oh': 3239,\n",
       " 'yeah': 5147,\n",
       " 'gretzky': 2150,\n",
       " 'oilers': 3242,\n",
       " 'catalog': 878,\n",
       " 'computing': 1100,\n",
       " 'tools': 4752,\n",
       " 'engineers': 1691,\n",
       " 'lists': 2763,\n",
       " 'hardware': 2205,\n",
       " 'packages': 3315,\n",
       " 'xt': 5140,\n",
       " 'ps': 3691,\n",
       " 'focus': 1965,\n",
       " 'pcs': 3381,\n",
       " 'presentation': 3576,\n",
       " 'free': 2019,\n",
       " 'copy': 1217,\n",
       " 'mailing': 2836,\n",
       " 'write': 5124,\n",
       " 'tons': 4747,\n",
       " 'stuff': 4506,\n",
       " 'appears': 453,\n",
       " 'buyer': 815,\n",
       " 'waste': 5022,\n",
       " 'ensure': 1698,\n",
       " 'continued': 1171,\n",
       " 'touch': 4761,\n",
       " 'street': 4481,\n",
       " 'campbell': 838,\n",
       " 'ca': 819,\n",
       " '408': 160,\n",
       " 'fax': 1878,\n",
       " 'toll': 4741,\n",
       " 'ordering': 3281,\n",
       " 'tech': 4634,\n",
       " 'support': 4558,\n",
       " 'box': 747,\n",
       " ...}"
      ]
     },
     "execution_count": 5,
     "metadata": {},
     "output_type": "execute_result"
    }
   ],
   "source": [
    "vectorizer.vocabulary_"
   ]
  },
  {
   "cell_type": "markdown",
   "metadata": {
    "id": "Ki7CwruhB1xN"
   },
   "source": [
    "Индекс, например, для слова anyone:"
   ]
  },
  {
   "cell_type": "code",
   "execution_count": 7,
   "metadata": {
    "colab": {
     "base_uri": "https://localhost:8080/",
     "height": 34
    },
    "id": "N2XVuQu3B1xP",
    "outputId": "dc04f83b-482a-4598-cd3e-71f2fdcaa2fe"
   },
   "outputs": [
    {
     "data": {
      "text/plain": [
       "857"
      ]
     },
     "execution_count": 7,
     "metadata": {},
     "output_type": "execute_result"
    }
   ],
   "source": [
    "vectorizer.vocabulary_.get('car')"
   ]
  },
  {
   "cell_type": "markdown",
   "metadata": {
    "id": "H9ckeTs2B1xT"
   },
   "source": [
    "А теперь преобразуем строку в вектор:"
   ]
  },
  {
   "cell_type": "markdown",
   "metadata": {
    "id": "ULWh4DvrB1xX"
   },
   "source": [
    "Какой тип имеет объект, на который указывает ```x```?"
   ]
  },
  {
   "cell_type": "code",
   "execution_count": 10,
   "metadata": {
    "colab": {
     "base_uri": "https://localhost:8080/",
     "height": 34
    },
    "id": "LSi_b4mIB1xX",
    "outputId": "8c3bbb1c-13da-4dd3-e12a-1a87058f54e2"
   },
   "outputs": [
    {
     "data": {
      "text/plain": [
       "scipy.sparse.csr.csr_matrix"
      ]
     },
     "execution_count": 10,
     "metadata": {},
     "output_type": "execute_result"
    }
   ],
   "source": [
    "type(x)"
   ]
  },
  {
   "cell_type": "markdown",
   "metadata": {
    "id": "VdVtA7GmB1xZ"
   },
   "source": [
    "Разреженная матрица!"
   ]
  },
  {
   "cell_type": "markdown",
   "metadata": {
    "id": "ugUSIc9PB1xa"
   },
   "source": [
    "### Отступление про разреженные матрицы"
   ]
  },
  {
   "cell_type": "markdown",
   "metadata": {
    "id": "OB_zLEVBB1xa"
   },
   "source": [
    "Список ненулевых элементов матрицы:"
   ]
  },
  {
   "cell_type": "code",
   "execution_count": 11,
   "metadata": {
    "colab": {
     "base_uri": "https://localhost:8080/",
     "height": 34
    },
    "id": "5ygEpbSSB1xb",
    "outputId": "def34294-ba6a-481f-8346-5502b1279db6"
   },
   "outputs": [
    {
     "data": {
      "text/plain": [
       "array([2, 1, 1], dtype=int64)"
      ]
     },
     "execution_count": 11,
     "metadata": {},
     "output_type": "execute_result"
    }
   ],
   "source": [
    "x.data"
   ]
  },
  {
   "cell_type": "markdown",
   "metadata": {
    "id": "tejzzkvFB1xd"
   },
   "source": [
    "Индексы строк и столбцов для ненулевых элементов:"
   ]
  },
  {
   "cell_type": "code",
   "execution_count": 12,
   "metadata": {
    "colab": {
     "base_uri": "https://localhost:8080/",
     "height": 51
    },
    "id": "iYlLQ9WaB1xe",
    "outputId": "cf89901c-a082-4fc8-959c-f04dcf06eeab"
   },
   "outputs": [
    {
     "data": {
      "text/plain": [
       "(array([0, 0, 0], dtype=int32), array([ 889, 4243, 5293], dtype=int32))"
      ]
     },
     "execution_count": 12,
     "metadata": {},
     "output_type": "execute_result"
    }
   ],
   "source": [
    "x.nonzero()"
   ]
  },
  {
   "cell_type": "markdown",
   "metadata": {
    "id": "43HhCWNTB1xg"
   },
   "source": [
    "Преобразование к объекту ndarray (именно после приведения к такому виду разреженные матрицы можно подставлять в функции, например, библиотеки Numpy):"
   ]
  },
  {
   "cell_type": "code",
   "execution_count": 13,
   "metadata": {
    "colab": {
     "base_uri": "https://localhost:8080/",
     "height": 34
    },
    "id": "1U7rGrAYB1xh",
    "outputId": "5a9797a7-d8ec-4484-9daa-7f33593110ed"
   },
   "outputs": [
    {
     "data": {
      "text/plain": [
       "array([[0, 0, 0, ..., 0, 0, 0]], dtype=int64)"
      ]
     },
     "execution_count": 13,
     "metadata": {},
     "output_type": "execute_result"
    }
   ],
   "source": [
    "x.toarray()"
   ]
  },
  {
   "cell_type": "markdown",
   "metadata": {
    "id": "rNcjGOXGB1xk"
   },
   "source": [
    "Вернемся к словарю. Раскодируем вектор ```x``` в список слов:"
   ]
  },
  {
   "cell_type": "code",
   "execution_count": 14,
   "metadata": {
    "colab": {
     "base_uri": "https://localhost:8080/",
     "height": 34
    },
    "id": "_A38zVwvB1xk",
    "outputId": "4e516746-8f3e-4cad-8c20-64d0ee8fdc8e"
   },
   "outputs": [
    {
     "data": {
      "text/plain": [
       "[array(['car', 'saw', 'wondering'], dtype='<U15')]"
      ]
     },
     "execution_count": 14,
     "metadata": {},
     "output_type": "execute_result"
    }
   ],
   "source": [
    "vectorizer.inverse_transform(x)"
   ]
  },
  {
   "cell_type": "markdown",
   "metadata": {
    "id": "P4TuPHK1B1xm"
   },
   "source": [
    "Пропало слово ```I```. Но дело в том, что по умолчанию ```CountVectorizer``` отбрасывает последовательности, короче 2 символов. На это указывает параметр ```token_pattern='(?u)\\\\b\\\\w\\\\w+\\\\b'```."
   ]
  },
  {
   "cell_type": "markdown",
   "metadata": {
    "id": "qZYK2sG_B1xn"
   },
   "source": [
    "Переведем весь набор текстов обучающего датасета в набор векторов, получим матрицу ```X_train```:"
   ]
  },
  {
   "cell_type": "code",
   "execution_count": 8,
   "metadata": {
    "colab": {
     "base_uri": "https://localhost:8080/",
     "height": 34
    },
    "id": "Uhj_aRW7B1xn",
    "outputId": "76e48a96-b2ef-4512-a807-026daf579ece"
   },
   "outputs": [],
   "source": [
    "X_train = vectorizer.fit_transform(newsgroups_train.data)"
   ]
  },
  {
   "cell_type": "code",
   "execution_count": 9,
   "metadata": {},
   "outputs": [],
   "source": [
    "u = X_train.toarray()"
   ]
  },
  {
   "cell_type": "code",
   "execution_count": 10,
   "metadata": {},
   "outputs": [],
   "source": [
    "\n",
    "v = []\n",
    "for k in range(len(u)):\n",
    "    w = []\n",
    "    t = u[k].nonzero()[0]\n",
    "    for i in range(len(t)):\n",
    "        for j in range(u[k][t[i]]):\n",
    "            w.append(t[i])\n",
    "    v.append(w)"
   ]
  },
  {
   "cell_type": "code",
   "execution_count": 11,
   "metadata": {},
   "outputs": [
    {
     "data": {
      "text/plain": [
       "(array([ 302,  312,  495,  563,  625,  631,  677,  872,  911,  995,  996,\n",
       "        1055, 1056, 1143, 1187, 1250, 1272, 1274, 1275, 1475, 1546, 1547,\n",
       "        1555, 1611, 1638, 1642, 1757, 1829, 1833, 2170, 2171, 2347, 2378,\n",
       "        2521, 2526, 2589, 2626, 2627, 2693, 2710, 2741, 2769, 2791, 2812,\n",
       "        2901, 2919, 3085, 3107, 3122, 3268, 3304, 3533, 3567, 3590, 3602,\n",
       "        3625, 3769, 3770, 3783, 3827, 3829, 3845, 3877, 3903, 3995, 4159,\n",
       "        4237, 4250, 4427, 4436, 4576, 4615, 4707, 4708, 4709, 4780, 4814,\n",
       "        4891, 4899, 4902, 4952, 5006, 5015, 5036, 5037], dtype=int32),)"
      ]
     },
     "execution_count": 11,
     "metadata": {},
     "output_type": "execute_result"
    }
   ],
   "source": [
    "u[1234].nonzero()"
   ]
  },
  {
   "cell_type": "code",
   "execution_count": 12,
   "metadata": {},
   "outputs": [],
   "source": [
    "listt = np.array(v)"
   ]
  },
  {
   "cell_type": "code",
   "execution_count": 13,
   "metadata": {
    "scrolled": false
   },
   "outputs": [
    {
     "data": {
      "text/plain": [
       "310"
      ]
     },
     "execution_count": 13,
     "metadata": {},
     "output_type": "execute_result"
    }
   ],
   "source": [
    "listt[0][0]"
   ]
  },
  {
   "cell_type": "code",
   "execution_count": 14,
   "metadata": {},
   "outputs": [
    {
     "data": {
      "text/plain": [
       "array([list([310, 727, 829, 857, 857, 857, 857, 1335, 1557, 1558, 1607, 1688, 2264, 2421, 2630, 2661, 2792, 2793, 2834, 3016, 3641, 3800, 3951, 4084, 4177, 4315, 4383, 4403, 5099, 5149]),\n",
       "       list([224, 307, 307, 433, 624, 765, 859, 1004, 1004, 1255, 1335, 1336, 1513, 1727, 1795, 1795, 1844, 1957, 1958, 2038, 2213, 2231, 2305, 2632, 2947, 3140, 3188, 3627, 3771, 3920, 4167, 4223, 4253, 4355, 4387, 4387, 4683, 4881, 4882, 4890]),\n",
       "       list([31, 57, 57, 62, 62, 62, 62, 84, 275, 296, 302, 331, 432, 438, 438, 438, 439, 680, 698, 798, 798, 1098, 1221, 1311, 1335, 1335, 1492, 1513, 1513, 1515, 1515, 1515, 1546, 1546, 1555, 1555, 1588, 1599, 1631, 1651, 1659, 1690, 1789, 1892, 1911, 1920, 1921, 1966, 2060, 2114, 2117, 2140, 2213, 2227, 2227, 2227, 2245, 2265, 2293, 2381, 2421, 2421, 2470, 2589, 2589, 2630, 2734, 2739, 2749, 2771, 2793, 2794, 2822, 2823, 2823, 2824, 2846, 2878, 2906, 3031, 3144, 3147, 3247, 3263, 3263, 3390, 3396, 3436, 3482, 3495, 3534, 3548, 3548, 3548, 3596, 3623, 3683, 3733, 3735, 3790, 3795, 3798, 3800, 3800, 3814, 4024, 4040, 4294, 4340, 4340, 4348, 4430, 4471, 4471, 4512, 4548, 4549, 4563, 4602, 4683, 4725, 4742, 4891, 4898, 4934, 5031, 5043, 5050, 5099, 5116, 5122]),\n",
       "       ...,\n",
       "       list([202, 872, 947, 1005, 1255, 1255, 1255, 1255, 1255, 1255, 1255, 1255, 1369, 1677, 1677, 1698, 1751, 1857, 1863, 2114, 2305, 2448, 2589, 3049, 3049, 3058, 3445, 3547, 3584, 3625, 3723, 4325, 4325, 4804, 4947, 5046, 5046, 5103]),\n",
       "       list([1227, 1782, 1863, 2197, 3125, 3499, 3504, 3504, 3533, 3683, 3740, 3922, 4365, 4365, 4458, 4872, 5120, 5131]),\n",
       "       list([51, 136, 136, 600, 718, 828, 1688, 2165, 2243, 2287, 2738, 2771, 2997, 2999, 3188, 3188, 3477, 3496, 3985, 4187, 4198, 4261, 4462, 4744, 4769, 4831, 5057])],\n",
       "      dtype=object)"
      ]
     },
     "execution_count": 14,
     "metadata": {},
     "output_type": "execute_result"
    }
   ],
   "source": [
    "listt"
   ]
  },
  {
   "cell_type": "markdown",
   "metadata": {
    "id": "DeYz7ZxuB1xs"
   },
   "source": [
    "О пользе разреженных матриц. Отношение числа ненулевых элементов ко всем элементам матрицы ```X_train```:"
   ]
  },
  {
   "cell_type": "code",
   "execution_count": 15,
   "metadata": {
    "colab": {
     "base_uri": "https://localhost:8080/",
     "height": 34
    },
    "id": "lkc9UFcTB1xt",
    "outputId": "7eba71e7-52f1-4887-d02a-fde0418ceaf4"
   },
   "outputs": [
    {
     "data": {
      "text/plain": [
       "0.008769997391224006"
      ]
     },
     "execution_count": 15,
     "metadata": {},
     "output_type": "execute_result"
    }
   ],
   "source": [
    "X_train.nnz / np.prod(X_train.shape)"
   ]
  },
  {
   "cell_type": "markdown",
   "metadata": {
    "id": "i9ZpBC7Sgauk"
   },
   "source": [
    "\n",
    "Задача: запустить модель LDA и Gibbs Sampling с числов тегов 20. Вывести топ-10 слов по каждому тегу. Соотнести полученные теги с тегами из датасета, сделать выводы. "
   ]
  },
  {
   "cell_type": "code",
   "execution_count": 23,
   "metadata": {
    "id": "Rn_580PkLCCj"
   },
   "outputs": [
    {
     "name": "stdout",
     "output_type": "stream",
     "text": [
      "[ 6 10  1 ...  3  7 14]\n",
      "101322\n"
     ]
    }
   ],
   "source": [
    "K = 20\n",
    "N = 101322\n",
    "l = 11314\n",
    "z = np.random.randint(0,20,N)\n",
    "nd = np.zeros((l,K))\n",
    "n = np.zeros(K)\n",
    "nk = np.zeros((K,N))\n",
    "phi = np.zeros((K,N))\n",
    "phi = phi + 1/N\n",
    "tetta = np.zeros((K,l))\n",
    "tetta = tetta + 1/K\n",
    "print(z)\n",
    "print(len(z))"
   ]
  },
  {
   "cell_type": "code",
   "execution_count": 16,
   "metadata": {},
   "outputs": [
    {
     "data": {
      "text/plain": [
       "11314"
      ]
     },
     "execution_count": 16,
     "metadata": {},
     "output_type": "execute_result"
    }
   ],
   "source": [
    "len(u)"
   ]
  },
  {
   "cell_type": "code",
   "execution_count": 17,
   "metadata": {},
   "outputs": [],
   "source": [
    "def randomInit(ndz,nzw,nz,Z,l):\n",
    "    for d, doc in enumerate(l):\n",
    "        Cur = []\n",
    "        for w in doc:\n",
    "            pz = np.divide(np.multiply(ndz[d, :], nzw[:, w]), nz)\n",
    "            z = np.random.multinomial(1, pz / pz.sum()).argmax()\n",
    "            Cur.append(z)\n",
    "            ndz[d, z] += 1\n",
    "            nzw[z, w] += 1\n",
    "            nz[z] += 1\n",
    "        Z.append(Cur)"
   ]
  },
  {
   "cell_type": "code",
   "execution_count": 18,
   "metadata": {},
   "outputs": [],
   "source": [
    "def sampling(ndz,nzw,nz,Z,l):\n",
    "    for d, doc in enumerate(l):\n",
    "        for index, w in enumerate(doc):\n",
    "            z = Z[d][index]\n",
    "            ndz[d, z] -= 1\n",
    "            nzw[z, w] -= 1\n",
    "            nz[z] -= 1\n",
    "            pz = np.divide(np.multiply(ndz[d, :], nzw[:, w]), nz)\n",
    "            z = np.random.multinomial(1, pz / pz.sum()).argmax()\n",
    "            Z[d][index] = z \n",
    "            ndz[d, z] += 1\n",
    "            nzw[z, w] += 1\n",
    "            nz[z] += 1"
   ]
  },
  {
   "cell_type": "code",
   "execution_count": 19,
   "metadata": {},
   "outputs": [],
   "source": [
    "def getwords(diction, value):\n",
    "    words = list()\n",
    "    items = diction.items()\n",
    "    for item  in items:\n",
    "        if item[1] == value:\n",
    "            words.append(item[0])\n",
    "    return  words"
   ]
  },
  {
   "cell_type": "code",
   "execution_count": 20,
   "metadata": {},
   "outputs": [
    {
     "name": "stdout",
     "output_type": "stream",
     "text": [
      "0\n",
      "1\n",
      "2\n",
      "3\n",
      "4\n",
      "5\n",
      "6\n",
      "7\n",
      "8\n",
      "9\n",
      "10\n",
      "11\n",
      "12\n",
      "13\n",
      "14\n",
      "15\n",
      "16\n",
      "17\n",
      "18\n",
      "19\n",
      "20\n",
      "21\n",
      "22\n",
      "23\n",
      "24\n",
      "25\n",
      "26\n",
      "27\n",
      "28\n",
      "29\n",
      "30\n",
      "31\n",
      "32\n",
      "33\n",
      "34\n",
      "35\n",
      "36\n",
      "37\n",
      "38\n",
      "39\n",
      "40\n",
      "41\n",
      "42\n",
      "43\n",
      "44\n",
      "45\n",
      "46\n",
      "47\n",
      "48\n",
      "49\n"
     ]
    }
   ],
   "source": [
    "N_w = 5162\n",
    "alpha = 5\n",
    "beta = 0.1\n",
    "iterations = 50\n",
    "Z = []\n",
    "K = 20\n",
    "\n",
    "N = len(listt) \n",
    "M = N_w \n",
    "ndz = np.zeros([N, K]) + alpha\n",
    "nzw = np.zeros([K, M]) + beta\n",
    "nz = np.zeros([K]) + M * beta\n",
    "\n",
    "randomInit(ndz,nzw,nz,Z,listt)\n",
    "\n",
    "for i in range(0, iterations):\n",
    "    sampling(ndz,nzw,nz,Z,listt)\n",
    "    print(i)"
   ]
  },
  {
   "cell_type": "code",
   "execution_count": 27,
   "metadata": {},
   "outputs": [
    {
     "name": "stdout",
     "output_type": "stream",
     "text": [
      "0\n",
      "1\n",
      "2\n",
      "3\n",
      "4\n",
      "5\n",
      "6\n",
      "7\n",
      "8\n",
      "9\n",
      "10\n",
      "11\n",
      "12\n",
      "13\n",
      "14\n",
      "15\n",
      "16\n",
      "17\n",
      "18\n",
      "19\n"
     ]
    }
   ],
   "source": [
    "topics = []  #!!!!!!!!!!!!!!!!!!!!!!!!!!!!\n",
    "maxNum = 10\n",
    "for z in range(0, K):\n",
    "    print(z)\n",
    "    ids = nzw[z, :].argsort()\n",
    "    topic = []\n",
    "    for j in ids:\n",
    "        topic.insert(0, getwords(vectorizer.vocabulary_, j))\n",
    "    topics.append(topic[ : min(10, len(topic))])"
   ]
  },
  {
   "cell_type": "code",
   "execution_count": 28,
   "metadata": {},
   "outputs": [
    {
     "name": "stdout",
     "output_type": "stream",
     "text": [
      "0 [['time'], ['little'], ['does'], ['really'], ['ll'], ['trying'], ['problem'], ['try'], ['thing'], ['point']]\n",
      "\n",
      "\n",
      "1 [['don'], ['just'], ['know'], ['need'], ['want'], ['doesn'], ['probably'], ['work'], ['actually'], ['like']]\n",
      "\n",
      "\n",
      "2 [['people'], ['right'], ['say'], ['law'], ['state'], ['think'], ['person'], ['fact'], ['case'], ['rights']]\n",
      "\n",
      "\n",
      "3 [['windows'], ['version'], ['window'], ['image'], ['dos'], ['graphics'], ['color'], ['display'], ['use'], ['using']]\n",
      "\n",
      "\n",
      "4 [['mr'], ['gun'], ['president'], ['000'], ['states'], ['american'], ['control'], ['united'], ['guns'], ['health']]\n",
      "\n",
      "\n",
      "5 [['key'], ['government'], ['chip'], ['use'], ['encryption'], ['public'], ['security'], ['new'], ['bit'], ['keys']]\n",
      "\n",
      "\n",
      "6 [['drive'], ['card'], ['car'], ['disk'], ['scsi'], ['hard'], ['bit'], ['speed'], ['driver'], ['memory']]\n",
      "\n",
      "\n",
      "7 [['year'], ['got'], ['better'], ['good'], ['best'], ['won'], ['game'], ['just'], ['lost'], ['pretty']]\n",
      "\n",
      "\n",
      "8 [['use'], ['does'], ['used'], ['case'], ['example'], ['possible'], ['output'], ['note'], ['given'], ['make']]\n",
      "\n",
      "\n",
      "9 [['new'], ['team'], ['play'], ['10'], ['game'], ['period'], ['games'], ['season'], ['power'], ['hockey']]\n",
      "\n",
      "\n",
      "10 [['armenian'], ['israel'], ['jews'], ['people'], ['war'], ['turkish'], ['world'], ['armenians'], ['israeli'], ['history']]\n",
      "\n",
      "\n",
      "11 [['god'], ['jesus'], ['believe'], ['bible'], ['does'], ['christian'], ['life'], ['church'], ['true'], ['religion']]\n",
      "\n",
      "\n",
      "12 [['said'], ['didn'], ['did'], ['people'], ['know'], ['say'], ['just'], ['told'], ['day'], ['went']]\n",
      "\n",
      "\n",
      "13 [['think'], ['way'], ['don'], ['make'], ['let'], ['going'], ['want'], ['right'], ['really'], ['lot']]\n",
      "\n",
      "\n",
      "14 [['max'], ['25'], ['14'], ['pl'], ['145'], ['10'], ['17'], ['20'], ['15'], ['16']]\n",
      "\n",
      "\n",
      "15 [['like'], ['good'], ['ve'], ['know'], ['00'], ['course'], ['make'], ['post'], ['looking'], ['yes']]\n",
      "\n",
      "\n",
      "16 [['space'], ['research'], ['nasa'], ['center'], ['science'], ['new'], ['high'], ['earth'], ['water'], ['launch']]\n",
      "\n",
      "\n",
      "17 [['file'], ['program'], ['files'], ['information'], ['line'], ['number'], ['info'], ['following'], ['entry'], ['source']]\n",
      "\n",
      "\n",
      "18 [['thanks'], ['help'], ['price'], ['interested'], ['used'], ['buy'], ['video'], ['hi'], ['advance'], ['monitor']]\n",
      "\n",
      "\n",
      "19 [['edu'], ['com'], ['mail'], ['available'], ['ftp'], ['list'], ['db'], ['send'], ['pub'], ['cs']]\n",
      "\n",
      "\n"
     ]
    },
    {
     "data": {
      "text/plain": [
       "['alt.atheism',\n",
       " 'comp.graphics',\n",
       " 'comp.os.ms-windows.misc',\n",
       " 'comp.sys.ibm.pc.hardware',\n",
       " 'comp.sys.mac.hardware',\n",
       " 'comp.windows.x',\n",
       " 'misc.forsale',\n",
       " 'rec.autos',\n",
       " 'rec.motorcycles',\n",
       " 'rec.sport.baseball',\n",
       " 'rec.sport.hockey',\n",
       " 'sci.crypt',\n",
       " 'sci.electronics',\n",
       " 'sci.med',\n",
       " 'sci.space',\n",
       " 'soc.religion.christian',\n",
       " 'talk.politics.guns',\n",
       " 'talk.politics.mideast',\n",
       " 'talk.politics.misc',\n",
       " 'talk.religion.misc']"
      ]
     },
     "execution_count": 28,
     "metadata": {},
     "output_type": "execute_result"
    }
   ],
   "source": [
    "for n in range (20):\n",
    "    print(n, topics[n])\n",
    "    print('\\n')\n",
    "newsgroups_train.target_names"
   ]
  },
  {
   "cell_type": "markdown",
   "metadata": {},
   "source": [
    "По полученным наборам слов заметно, что алгоритм работает в целом так, как надо, например, тема 11 скорее всего атеизм, 6 связана с техникой, 9 с хоккеем."
   ]
  },
  {
   "cell_type": "code",
   "execution_count": null,
   "metadata": {},
   "outputs": [],
   "source": []
  }
 ],
 "metadata": {
  "colab": {
   "collapsed_sections": [],
   "name": "Topic Modeling",
   "provenance": []
  },
  "kernelspec": {
   "display_name": "Python 3",
   "language": "python",
   "name": "python3"
  },
  "language_info": {
   "codemirror_mode": {
    "name": "ipython",
    "version": 3
   },
   "file_extension": ".py",
   "mimetype": "text/x-python",
   "name": "python",
   "nbconvert_exporter": "python",
   "pygments_lexer": "ipython3",
   "version": "3.7.0"
  }
 },
 "nbformat": 4,
 "nbformat_minor": 1
}

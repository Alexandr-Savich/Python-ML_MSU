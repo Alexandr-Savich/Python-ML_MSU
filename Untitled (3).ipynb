{
 "cells": [
  {
   "cell_type": "code",
   "execution_count": 5,
   "metadata": {},
   "outputs": [],
   "source": [
    "class Test:\n",
    "    @staticmethod\n",
    "    def assert_equals(a, b, *args, **kwargs):\n",
    "        assert a == b\n",
    "        print('Passed')"
   ]
  },
  {
   "cell_type": "code",
   "execution_count": 32,
   "metadata": {},
   "outputs": [
    {
     "name": "stdout",
     "output_type": "stream",
     "text": [
      "Buzz\n"
     ]
    }
   ],
   "source": [
    "a=5\n",
    "def FizzBuzz(a):\n",
    "    x=\"Fizz\"\n",
    "    y=\"Buzz\"\n",
    "    if a % 3==0 and a % 5==0:\n",
    "        return x+y\n",
    "    elif a%3==0:\n",
    "        return x\n",
    "    elif a%5==0:\n",
    "        return y\n",
    "    else: \n",
    "        x=a\n",
    "    return x\n",
    "\n",
    "print(FizzBuzz (a))"
   ]
  },
  {
   "cell_type": "markdown",
   "metadata": {},
   "source": [
    "Problem https://edabit.com/challenge/WXqH9qvvGkmx4dMvp (3 points)"
   ]
  },
  {
   "cell_type": "code",
   "execution_count": 1,
   "metadata": {},
   "outputs": [
    {
     "data": {
      "text/plain": [
       "6"
      ]
     },
     "execution_count": 1,
     "metadata": {},
     "output_type": "execute_result"
    }
   ],
   "source": [
    "def factorial (a):\n",
    "    s=1\n",
    "    for i in range (a):\n",
    "        s=s*(i+1)\n",
    "    return s\n",
    "factorial (3) "
   ]
  },
  {
   "cell_type": "code",
   "execution_count": 6,
   "metadata": {},
   "outputs": [
    {
     "name": "stdout",
     "output_type": "stream",
     "text": [
      "Passed\n",
      "Passed\n",
      "Passed\n",
      "Passed\n",
      "Passed\n"
     ]
    }
   ],
   "source": [
    "Test.assert_equals(factorial(0), 1)\n",
    "Test.assert_equals(factorial(1), 1)\n",
    "Test.assert_equals(factorial(2), 2)\n",
    "Test.assert_equals(factorial(3), 6)\n",
    "Test.assert_equals(factorial(7), 5040)"
   ]
  },
  {
   "cell_type": "markdown",
   "metadata": {},
   "source": [
    "https://edabit.com/challenge/PNbsQzmDR3CJ9JHkB (3 points)"
   ]
  },
  {
   "cell_type": "code",
   "execution_count": 8,
   "metadata": {},
   "outputs": [
    {
     "data": {
      "text/plain": [
       "98"
      ]
     },
     "execution_count": 8,
     "metadata": {},
     "output_type": "execute_result"
    }
   ],
   "source": [
    "def difference (r):\n",
    "    s=2*r*r\n",
    "    return s\n",
    "difference (7)"
   ]
  },
  {
   "cell_type": "code",
   "execution_count": 9,
   "metadata": {},
   "outputs": [
    {
     "name": "stdout",
     "output_type": "stream",
     "text": [
      "Passed\n",
      "Passed\n",
      "Passed\n",
      "Passed\n"
     ]
    }
   ],
   "source": [
    "Test.assert_equals(difference (7), 98)\n",
    "Test.assert_equals(difference (5), 50)\n",
    "Test.assert_equals(difference (2), 8)\n",
    "Test.assert_equals(difference (10), 200)"
   ]
  },
  {
   "cell_type": "markdown",
   "metadata": {},
   "source": [
    "https://edabit.com/challenge/NNhkGocuPMcryW7GP (3 points)"
   ]
  },
  {
   "cell_type": "code",
   "execution_count": 21,
   "metadata": {},
   "outputs": [
    {
     "data": {
      "text/plain": [
       "0"
      ]
     },
     "execution_count": 21,
     "metadata": {},
     "output_type": "execute_result"
    }
   ],
   "source": [
    "def solutions (a,b,c):\n",
    "    D=b*b-4*a*c\n",
    "    if D>0:\n",
    "        return 2\n",
    "    elif D==0:\n",
    "        return 1\n",
    "    else:\n",
    "        return 0\n",
    "solutions (1,0,1)"
   ]
  },
  {
   "cell_type": "markdown",
   "metadata": {},
   "source": [
    "https://edabit.com/challenge/o2AKq4xy3nfZabKXL (3 points)"
   ]
  },
  {
   "cell_type": "code",
   "execution_count": 1,
   "metadata": {},
   "outputs": [
    {
     "name": "stdout",
     "output_type": "stream",
     "text": [
      "[7, 14, 21, 28, 35]\n"
     ]
    }
   ],
   "source": [
    "def List(num, length):\n",
    "    s=num\n",
    "    j=[]\n",
    "    for i in range (length):\n",
    "       j.append(num* (i+1))\n",
    "    print (j)\n",
    "List (7,5)"
   ]
  },
  {
   "cell_type": "markdown",
   "metadata": {},
   "source": [
    "https://edabit.com/challenge/BuwHwPvt92yw574zB"
   ]
  }
 ],
 "metadata": {
  "kernelspec": {
   "display_name": "Python 3",
   "language": "python",
   "name": "python3"
  },
  "language_info": {
   "codemirror_mode": {
    "name": "ipython",
    "version": 3
   },
   "file_extension": ".py",
   "mimetype": "text/x-python",
   "name": "python",
   "nbconvert_exporter": "python",
   "pygments_lexer": "ipython3",
   "version": "3.7.0"
  }
 },
 "nbformat": 4,
 "nbformat_minor": 2
}

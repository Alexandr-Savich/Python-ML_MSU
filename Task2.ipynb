{
 "cells": [
  {
   "cell_type": "code",
   "execution_count": 6,
   "metadata": {},
   "outputs": [
    {
     "name": "stdout",
     "output_type": "stream",
     "text": [
      "0.3006463897448374\n",
      "0.20941695724546572\n",
      "0.5237663018782134\n",
      "0.6338988949000188\n",
      "0.6649108416255927\n",
      "0.25649681418108017\n",
      "0.6269943957738077\n",
      "0.4334002937150222\n",
      "0.44540113805692083\n",
      "0.21134529190291163\n"
     ]
    }
   ],
   "source": [
    "import numpy as np \n",
    "a=np.random.random((10,3))\n",
    "b=abs(a-0.5)\n",
    "mask=b.argmin(1)\n",
    "mask\n",
    "for n in range (10):\n",
    "    print (a[n][mask[n]])"
   ]
  },
  {
   "cell_type": "code",
   "execution_count": 55,
   "metadata": {},
   "outputs": [
    {
     "name": "stdout",
     "output_type": "stream",
     "text": [
      "[ 76.50994016  16.43087562  13.63615284  14.82289738 161.47790745\n",
      "   6.38817491]\n"
     ]
    }
   ],
   "source": [
    "a=np.random.random((6,6))\n",
    "print (np.sum(a,axis=0)/np.min(a,axis=1))"
   ]
  },
  {
   "cell_type": "code",
   "execution_count": 104,
   "metadata": {},
   "outputs": [
    {
     "data": {
      "text/plain": [
       "5"
      ]
     },
     "execution_count": 104,
     "metadata": {},
     "output_type": "execute_result"
    }
   ],
   "source": [
    "x=np.array([6, 2, 0, 3, 0, 0, 5, 7, 0])\n",
    "x=np.append(x,1)\n",
    "np.max(x[np.roll(x==0,1)])"
   ]
  },
  {
   "cell_type": "code",
   "execution_count": 105,
   "metadata": {},
   "outputs": [
    {
     "data": {
      "text/plain": [
       "array([2., 2., 2., 2., 1., 4., 1., 1., 2., 1.])"
      ]
     },
     "execution_count": 105,
     "metadata": {},
     "output_type": "execute_result"
    }
   ],
   "source": [
    "x=np.ones(10)\n",
    "i=np.array([0, 1, 2, 3, 5, 5, 5, 8])\n",
    "for n in range(len(i)):\n",
    "    x[i[n]]=x[i[n]]+1\n",
    "x"
   ]
  },
  {
   "cell_type": "code",
   "execution_count": 126,
   "metadata": {},
   "outputs": [
    {
     "data": {
      "text/plain": [
       "4"
      ]
     },
     "execution_count": 126,
     "metadata": {},
     "output_type": "execute_result"
    }
   ],
   "source": [
    "a=[[1,1],[2,2],[3,3],[4,4]]\n",
    "len(a)"
   ]
  },
  {
   "cell_type": "code",
   "execution_count": null,
   "metadata": {},
   "outputs": [],
   "source": []
  },
  {
   "cell_type": "code",
   "execution_count": 1,
   "metadata": {},
   "outputs": [],
   "source": [
    "def matrNorm(X):\n",
    "    n=len(X)\n",
    "    X=X*X\n",
    "    Y=np.flip(X,axis=2)\n",
    "    Z=X+Y\n",
    "    Z=np.sum(Z,axis=0)\n",
    "    return Z[0][0]"
   ]
  },
  {
   "cell_type": "code",
   "execution_count": 2,
   "metadata": {},
   "outputs": [],
   "source": [
    "def Kmeans(D,k,eps):\n",
    "    cen=np.random.sample((k,1,2))\n",
    "    w=len(D)\n",
    "    kl=170\n",
    "    while kl>eps:\n",
    "        h=D-cen\n",
    "        #print (h)\n",
    "        h=h*h\n",
    "        #print (h)\n",
    "        d=np.flip(h,axis=2)\n",
    "        #print (d)\n",
    "        d=d+h\n",
    "        u=np.argmin(d,axis=0)\n",
    "        u=np.delete(u,slice(1),axis=1)\n",
    "        #print(u[0][0])\n",
    "        #print(u [1][1])\n",
    "        P=np.zeros((w,k))\n",
    "        Q=np.zeros((w,k))\n",
    "        O=np.arange(k)\n",
    "        #print (u)\n",
    "        #O=np.reshape(O,(4,1))\n",
    "        Q=Q+O\n",
    "        P=u+P\n",
    "        e=np.zeros((w,k))-1\n",
    "        l=np.ones((w,k))\n",
    "        m=np.zeros((w,k))\n",
    "        #print (Q)\n",
    "        I=np.where(P!=Q,e,P)\n",
    "        #print(I)\n",
    "        I=np.where(I<0,m,l)\n",
    "        #print(I)\n",
    "        e=np.zeros((w,k,2))\n",
    "        a=np.reshape(D,(w,1,2))\n",
    "        mat=a+e\n",
    "        I1=np.reshape(I,(w,k,1))\n",
    "        I=I1+e\n",
    "        #print (mat)\n",
    "        #print (I)\n",
    "        #print (mat*I)\n",
    "        mat=mat*I\n",
    "        Z=mat.sum(0)/(mat!=0).sum(0)\n",
    "        Z=np.reshape(Z,(k,1,2))\n",
    "        #print(Z)\n",
    "        cen1=cen\n",
    "        #print(\"j\",j)\n",
    "        cen=Z\n",
    "        #print (cen)\n",
    "        kl=matrNorm(cen-cen1)\n",
    "        #print(kl)\n",
    "    #print (\"I\",I1.shape)\n",
    "    D=np.reshape(D,(w,1,2))\n",
    "    cen2=np.reshape(cen,(1,k,2))\n",
    "    #print((D-cen2).shape)\n",
    "    #print (\"D\",D-cen2)\n",
    "    D1=D-cen2\n",
    "    D2=D1*D1\n",
    "    D3=np.flip(D2,axis=2)\n",
    "    D2=D2+D3\n",
    "    #print (D2.shape)\n",
    "    #print(D2)\n",
    "    D3=np.delete(D2,slice(1),axis=2)\n",
    "    D3=D3*I1\n",
    "    #print(D3.shape)\n",
    "    #print(D3)\n",
    "    disp=D3.sum()/(w*w)\n",
    "    #print(disp)\n",
    "    #print(I1)\n",
    "    return cen,disp"
   ]
  },
  {
   "cell_type": "code",
   "execution_count": 230,
   "metadata": {},
   "outputs": [],
   "source": [
    "def norm(y):\n",
    "    return y[0]*y[0]+y[1]*y[1]"
   ]
  },
  {
   "cell_type": "code",
   "execution_count": 25,
   "metadata": {},
   "outputs": [
    {
     "data": {
      "text/plain": [
       "<function matplotlib.pyplot.show(*args, **kw)>"
      ]
     },
     "execution_count": 25,
     "metadata": {},
     "output_type": "execute_result"
    },
    {
     "data": {
      "image/png": "[encoded data removed]",
      "text/plain": [
       "<Figure size 432x288 with 1 Axes>"
      ]
     },
     "metadata": {
      "needs_background": "light"
     },
     "output_type": "display_data"
    }
   ],
   "source": [
    "import matplotlib.pyplot as plt\n",
    "url = 'https://raw.githubusercontent.com/sharmaroshan/Clustering-of-Mall-Customers/master/Mall_Customers.csv'\n",
    "data = np.loadtxt(url, delimiter=',', dtype=object, skiprows=1)\n",
    "data[:, 1] = data[:, 1] == 'Male'\n",
    "data = data.astype(float)\n",
    "a=np.max(data,axis=0)\n",
    "\n",
    "D=np.zeros((200,2))\n",
    "for i in range(200):\n",
    "    for j in range (2):\n",
    "        D[i][j]=data[i][j+2]/a[j+2]\n",
    "\n",
    "disp=np.zeros(6)\n",
    "for i in range (1,7):\n",
    "    Y,disp[i-1]=Kmeans(D,i,eps)\n",
    "plt.plot(*np.array([np.arange(1,7),disp]))\n",
    "plt.show"
   ]
  },
  {
   "cell_type": "code",
   "execution_count": 28,
   "metadata": {},
   "outputs": [
    {
     "data": {
      "image/png": "[encoded data removed]",
      "text/plain": [
       "<Figure size 432x288 with 1 Axes>"
      ]
     },
     "metadata": {
      "needs_background": "light"
     },
     "output_type": "display_data"
    }
   ],
   "source": [
    "url = 'https://raw.githubusercontent.com/sharmaroshan/Clustering-of-Mall-Customers/master/Mall_Customers.csv'\n",
    "data = np.loadtxt(url, delimiter=',', dtype=object, skiprows=1)\n",
    "data[:, 1] = data[:, 1] == 'Male'\n",
    "data = data.astype(float)\n",
    "a=np.max(data,axis=0)\n",
    "#print(a)\n",
    "D=np.zeros((200,2))\n",
    "for i in range(200):\n",
    "    for j in range (2):\n",
    "        D[i][j]=data[i][j+2]/a[j+2]\n",
    "#print(D)\n",
    "k=3\n",
    "eps=0.001\n",
    "over=2\n",
    "Rez,Disp1 = Kmeans(D,k,eps)\n",
    "\n",
    "\n",
    "Rez = np.reshape(Rez,(3,2))\n",
    "\n",
    "a = np.zeros((0,2))\n",
    "b = np.zeros((0,2))\n",
    "c = np.zeros((0,2))\n",
    "d = np.zeros((0,2))\n",
    "for i in range (0,200):\n",
    "    rast1 = (D[i][0] - Rez[0][0])*(D[i][0] - Rez[0][0]) + (D[i][1] - Rez[0][1])*(D[i][1] - Rez[0][1])\n",
    "    rast2 = (D[i][0] - Rez[1][0])*(D[i][0] - Rez[1][0]) + (D[i][1] - Rez[1][1])*(D[i][1] - Rez[1][1])\n",
    "    rast3 = (D[i][0] - Rez[2][0])*(D[i][0] - Rez[2][0]) + (D[i][1] - Rez[2][1])*(D[i][1] - Rez[2][1])\n",
    "    \n",
    "    rast = min(rast1,rast2,rast3)\n",
    "    f=np.zeros(2)\n",
    "    f[0]=D[i][0]\n",
    "    f[1]=D[i][1]\n",
    "    if rast == rast1:\n",
    "        a = np.append(a,f.reshape(1,2),axis = 0)\n",
    "    elif rast == rast2:\n",
    "        b = np.append(b,f.reshape(1,2),axis = 0)\n",
    "    else:\n",
    "        c = np.append(c,f.reshape(1,2),axis = 0)\n",
    "    \n",
    "#print(d)\n",
    "plt.scatter(*a.T, c='r', label='First group')\n",
    "plt.scatter(*(b ).T, c='g', label='Second group')\n",
    "plt.scatter(*(c ).T, c='b', label='Third group')\n",
    "\n",
    "plt.axis('equal')\n",
    "plt.xlabel('Age')\n",
    "plt.ylabel('Annual Income')\n",
    "plt.legend()\n",
    "plt.show()"
   ]
  },
  {
   "cell_type": "code",
   "execution_count": 29,
   "metadata": {},
   "outputs": [
    {
     "data": {
      "text/plain": [
       "<function matplotlib.pyplot.show(*args, **kw)>"
      ]
     },
     "execution_count": 29,
     "metadata": {},
     "output_type": "execute_result"
    },
    {
     "data": {
      "image/png": "[encoded data removed]",
      "text/plain": [
       "<Figure size 432x288 with 1 Axes>"
      ]
     },
     "metadata": {
      "needs_background": "light"
     },
     "output_type": "display_data"
    }
   ],
   "source": [
    "import matplotlib.pyplot as plt\n",
    "url = 'https://raw.githubusercontent.com/sharmaroshan/Clustering-of-Mall-Customers/master/Mall_Customers.csv'\n",
    "data = np.loadtxt(url, delimiter=',', dtype=object, skiprows=1)\n",
    "data[:, 1] = data[:, 1] == 'Male'\n",
    "data = data.astype(float)\n",
    "a=np.max(data,axis=0)\n",
    "\n",
    "D=np.zeros((200,2))\n",
    "for i in range(200):\n",
    "    D[i][0]=data[i][2]/a[2]\n",
    "    D[i][1]=data[i][4]/a[4]\n",
    "\n",
    "disp=np.zeros(6)\n",
    "for i in range (1,7):\n",
    "    Y,disp[i-1]=Kmeans(D,i,eps)\n",
    "plt.plot(*np.array([np.arange(1,7),disp]))\n",
    "plt.show"
   ]
  },
  {
   "cell_type": "code",
   "execution_count": 35,
   "metadata": {},
   "outputs": [
    {
     "data": {
      "image/png": "[encoded data removed]",
      "text/plain": [
       "<Figure size 432x288 with 1 Axes>"
      ]
     },
     "metadata": {
      "needs_background": "light"
     },
     "output_type": "display_data"
    }
   ],
   "source": [
    "url = 'https://raw.githubusercontent.com/sharmaroshan/Clustering-of-Mall-Customers/master/Mall_Customers.csv'\n",
    "data = np.loadtxt(url, delimiter=',', dtype=object, skiprows=1)\n",
    "data[:, 1] = data[:, 1] == 'Male'\n",
    "data = data.astype(float)\n",
    "a=np.max(data,axis=0)\n",
    "#print(a)\n",
    "D=np.zeros((200,2))\n",
    "for i in range(200):\n",
    "    D[i][0]=data[i][2]/a[2]\n",
    "    D[i][1]=data[i][4]/a[4]\n",
    "#print(D)\n",
    "k=4\n",
    "eps=0.001\n",
    "over=2\n",
    "Rez,Disp1 = Kmeans(D,k,eps)\n",
    "\n",
    "import matplotlib.pyplot as plt\n",
    "Rez = np.reshape(Rez,(4,2))\n",
    "\n",
    "a = np.zeros((0,2))\n",
    "b = np.zeros((0,2))\n",
    "c = np.zeros((0,2))\n",
    "d = np.zeros((0,2))\n",
    "for i in range (0,200):\n",
    "    rast1 = (D[i][0] - Rez[0][0])*(D[i][0] - Rez[0][0]) + (D[i][1] - Rez[0][1])*(D[i][1] - Rez[0][1])\n",
    "    rast2 = (D[i][0] - Rez[1][0])*(D[i][0] - Rez[1][0]) + (D[i][1] - Rez[1][1])*(D[i][1] - Rez[1][1])\n",
    "    rast3 = (D[i][0] - Rez[2][0])*(D[i][0] - Rez[2][0]) + (D[i][1] - Rez[2][1])*(D[i][1] - Rez[2][1])\n",
    "    rast4 = (D[i][0] - Rez[3][0])*(D[i][0] - Rez[3][0]) + (D[i][1] - Rez[3][1])*(D[i][1] - Rez[3][1])\n",
    "    rast = min(rast1,rast2,rast3,rast4)\n",
    "    f=np.zeros(2)\n",
    "    f[0]=D[i][0]\n",
    "    f[1]=D[i][1]\n",
    "    if rast == rast1:\n",
    "        a = np.append(a,f.reshape(1,2),axis = 0)\n",
    "    elif rast == rast2:\n",
    "        b = np.append(b,f.reshape(1,2),axis = 0)\n",
    "    elif rast==rast3:\n",
    "        c = np.append(c,f.reshape(1,2),axis = 0)\n",
    "    else:\n",
    "        d = np.append(d,f.reshape(1,2),axis = 0)\n",
    "#print(d)\n",
    "plt.scatter(*a.T, c='r', label='First group')\n",
    "plt.scatter(*(b ).T, c='g', label='Second group')\n",
    "plt.scatter(*(c ).T, c='b', label='Third group')\n",
    "plt.scatter(*(d ).T, c='y', label='Fourth group')\n",
    "plt.axis('equal')\n",
    "plt.xlabel('Annual Income')\n",
    "plt.ylabel('Spending Score')\n",
    "plt.legend()\n",
    "plt.show()"
   ]
  },
  {
   "cell_type": "code",
   "execution_count": 36,
   "metadata": {},
   "outputs": [
    {
     "data": {
      "text/plain": [
       "<function matplotlib.pyplot.show(*args, **kw)>"
      ]
     },
     "execution_count": 36,
     "metadata": {},
     "output_type": "execute_result"
    },
    {
     "data": {
      "image/png": "[encoded data removed]",
      "text/plain": [
       "<Figure size 432x288 with 1 Axes>"
      ]
     },
     "metadata": {
      "needs_background": "light"
     },
     "output_type": "display_data"
    }
   ],
   "source": [
    "import matplotlib.pyplot as plt\n",
    "url = 'https://raw.githubusercontent.com/sharmaroshan/Clustering-of-Mall-Customers/master/Mall_Customers.csv'\n",
    "data = np.loadtxt(url, delimiter=',', dtype=object, skiprows=1)\n",
    "data[:, 1] = data[:, 1] == 'Male'\n",
    "data = data.astype(float)\n",
    "a=np.max(data,axis=0)\n",
    "\n",
    "D=np.zeros((200,2))\n",
    "for i in range(200):\n",
    "    D[i][0]=data[i][3]/a[3]\n",
    "    D[i][1]=data[i][4]/a[4]\n",
    "\n",
    "disp=np.zeros(6)\n",
    "for i in range (1,7):\n",
    "    Y,disp[i-1]=Kmeans(D,i,eps)\n",
    "plt.plot(*np.array([np.arange(1,7),disp]))\n",
    "plt.show"
   ]
  },
  {
   "cell_type": "code",
   "execution_count": 37,
   "metadata": {},
   "outputs": [
    {
     "data": {
      "image/png": "[encoded data removed]",
      "text/plain": [
       "<Figure size 432x288 with 1 Axes>"
      ]
     },
     "metadata": {
      "needs_background": "light"
     },
     "output_type": "display_data"
    }
   ],
   "source": [
    "url = 'https://raw.githubusercontent.com/sharmaroshan/Clustering-of-Mall-Customers/master/Mall_Customers.csv'\n",
    "data = np.loadtxt(url, delimiter=',', dtype=object, skiprows=1)\n",
    "data[:, 1] = data[:, 1] == 'Male'\n",
    "data = data.astype(float)\n",
    "a=np.max(data,axis=0)\n",
    "#print(a)\n",
    "D=np.zeros((200,2))\n",
    "for i in range(200):\n",
    "    D[i][0]=data[i][3]/a[3]\n",
    "    D[i][1]=data[i][4]/a[4]\n",
    "#print(D)\n",
    "k=4\n",
    "eps=0.001\n",
    "over=2\n",
    "Rez,Disp1 = Kmeans(D,k,eps)\n",
    "\n",
    "\n",
    "import matplotlib.pyplot as plt\n",
    "Rez = np.reshape(Rez,(4,2))\n",
    "\n",
    "a = np.zeros((0,2))\n",
    "b = np.zeros((0,2))\n",
    "c = np.zeros((0,2))\n",
    "d = np.zeros((0,2))\n",
    "e= np.zeros((0,2))\n",
    "for i in range (0,200):\n",
    "    rast1 = (D[i][0] - Rez[0][0])*(D[i][0] - Rez[0][0]) + (D[i][1] - Rez[0][1])*(D[i][1] - Rez[0][1])\n",
    "    rast2 = (D[i][0] - Rez[1][0])*(D[i][0] - Rez[1][0]) + (D[i][1] - Rez[1][1])*(D[i][1] - Rez[1][1])\n",
    "    rast3 = (D[i][0] - Rez[2][0])*(D[i][0] - Rez[2][0]) + (D[i][1] - Rez[2][1])*(D[i][1] - Rez[2][1])\n",
    "    rast4 = (D[i][0] - Rez[3][0])*(D[i][0] - Rez[3][0]) + (D[i][1] - Rez[3][1])*(D[i][1] - Rez[3][1])\n",
    "    \n",
    "    rast = min(rast1,rast2,rast3,rast4)\n",
    "    f=np.zeros(2)\n",
    "    f[0]=D[i][0]\n",
    "    f[1]=D[i][1]\n",
    "    if rast == rast1:\n",
    "        a = np.append(a,f.reshape(1,2),axis = 0)\n",
    "    elif rast == rast2:\n",
    "        b = np.append(b,f.reshape(1,2),axis = 0)\n",
    "    elif rast == rast3:\n",
    "        c = np.append(c,f.reshape(1,2),axis = 0)\n",
    "    else :\n",
    "        d = np.append(d,f.reshape(1,2),axis = 0)\n",
    "    \n",
    "#print(d)\n",
    "plt.scatter(*a.T, c='r', label='First group')\n",
    "plt.scatter(*(b ).T, c='g', label='Second group')\n",
    "plt.scatter(*(c ).T, c='b', label='Third group')\n",
    "plt.scatter(*(d ).T, c='y', label='Fourth group')\n",
    "\n",
    "plt.axis('equal')\n",
    "plt.xlabel('Annual Income')\n",
    "plt.ylabel('Spending Index')\n",
    "plt.legend()\n",
    "plt.show()"
   ]
  }
 ],
 "metadata": {
  "kernelspec": {
   "display_name": "Python 3",
   "language": "python",
   "name": "python3"
  },
  "language_info": {
   "codemirror_mode": {
    "name": "ipython",
    "version": 3
   },
   "file_extension": ".py",
   "mimetype": "text/x-python",
   "name": "python",
   "nbconvert_exporter": "python",
   "pygments_lexer": "ipython3",
   "version": "3.7.0"
  }
 },
 "nbformat": 4,
 "nbformat_minor": 2
}

{
 "cells": [
  {
   "cell_type": "code",
   "execution_count": 2,
   "metadata": {},
   "outputs": [],
   "source": [
    "import numpy as np\n",
    "import matplotlib.pyplot as plt\n",
    "import random"
   ]
  },
  {
   "cell_type": "code",
   "execution_count": null,
   "metadata": {},
   "outputs": [],
   "source": []
  },
  {
   "cell_type": "code",
   "execution_count": 3,
   "metadata": {},
   "outputs": [],
   "source": [
    "def Iscorrect (X,n):\n",
    "    log=True\n",
    "    if(np.sum(X)>n*n/2+1):\n",
    "        return False\n",
    "    for i in range (n):\n",
    "        for j in range (n):\n",
    "            if(X[i][j]==1):\n",
    "                if(i==0 and j==0):\n",
    "                    if (X[i+1][j]==1 or X[i][j+1]==1):\n",
    "                        log=False\n",
    "                elif (i==0 and j==n-1):\n",
    "                    if (X[i+1][j]==1 or  X[i][j-1]==1):\n",
    "                        log=False\n",
    "                elif (i==n-1 and j==0):\n",
    "                    if ( X[i-1][j]==1 or X[i][j+1]==1):\n",
    "                        log=False\n",
    "                elif (i==n-1 and j==n-1):\n",
    "                    if (X[i-1][j]==1 or X[i][j-1]==1):\n",
    "                        log=False\n",
    "                elif (i==0):\n",
    "                    if (X[i+1][j]==1 or X[i][j+1]==1 or X[i][j-1]==1):\n",
    "                        log=False\n",
    "                elif (i==n-1):\n",
    "                    if (X[i-1][j]==1 or X[i][j+1]==1 or X[i][j-1]==1):\n",
    "                        log=False\n",
    "                elif (j==0):\n",
    "                    if (X[i+1][j]==1 or X[i-1][j]==1 or X[i][j+1]==1):\n",
    "                        log=False\n",
    "                elif (j==n-1):\n",
    "                    if (X[i+1][j]==1 or X[i-1][j]==1 or X[i][j-1]==1):\n",
    "                        log=False\n",
    "                else:\n",
    "                    if (X[i+1][j]==1 or X[i-1][j]==1 or X[i][j+1]==1 or X[i][j-1]==1):\n",
    "                        log=False\n",
    "    return log"
   ]
  },
  {
   "cell_type": "code",
   "execution_count": 4,
   "metadata": {},
   "outputs": [],
   "source": [
    "def neighbours (X,n):\n",
    "    neighbours = []\n",
    "    a=np.zeros((n,n))\n",
    "    for i in range(n):\n",
    "        for j in range (n):\n",
    "            a[i][j]=X[i][j]\n",
    "    for i in range(n):\n",
    "        for j in range (n):\n",
    "            if(X[i][j]==1):\n",
    "                a[i][j]=0\n",
    "                if(Iscorrect (a,n)):\n",
    "                    neighbours.append(np.copy(a))\n",
    "                a[i][j]=1\n",
    "            else:\n",
    "                a[i][j]=1\n",
    "                #print(a)\n",
    "                if(Iscorrect (a,n)):\n",
    "                    neighbours.append(np.copy(a))\n",
    "                a[i][j]=0\n",
    "    return neighbours "
   ]
  },
  {
   "cell_type": "code",
   "execution_count": 5,
   "metadata": {},
   "outputs": [
    {
     "name": "stdout",
     "output_type": "stream",
     "text": [
      "[array([[1., 0., 0., 0.],\n",
      "       [0., 0., 0., 0.],\n",
      "       [0., 0., 0., 0.],\n",
      "       [0., 0., 0., 0.]]), array([[0., 1., 0., 0.],\n",
      "       [0., 0., 0., 0.],\n",
      "       [0., 0., 0., 0.],\n",
      "       [0., 0., 0., 0.]]), array([[0., 0., 1., 0.],\n",
      "       [0., 0., 0., 0.],\n",
      "       [0., 0., 0., 0.],\n",
      "       [0., 0., 0., 0.]]), array([[0., 0., 0., 1.],\n",
      "       [0., 0., 0., 0.],\n",
      "       [0., 0., 0., 0.],\n",
      "       [0., 0., 0., 0.]]), array([[0., 0., 0., 0.],\n",
      "       [1., 0., 0., 0.],\n",
      "       [0., 0., 0., 0.],\n",
      "       [0., 0., 0., 0.]]), array([[0., 0., 0., 0.],\n",
      "       [0., 1., 0., 0.],\n",
      "       [0., 0., 0., 0.],\n",
      "       [0., 0., 0., 0.]]), array([[0., 0., 0., 0.],\n",
      "       [0., 0., 1., 0.],\n",
      "       [0., 0., 0., 0.],\n",
      "       [0., 0., 0., 0.]]), array([[0., 0., 0., 0.],\n",
      "       [0., 0., 0., 1.],\n",
      "       [0., 0., 0., 0.],\n",
      "       [0., 0., 0., 0.]]), array([[0., 0., 0., 0.],\n",
      "       [0., 0., 0., 0.],\n",
      "       [1., 0., 0., 0.],\n",
      "       [0., 0., 0., 0.]]), array([[0., 0., 0., 0.],\n",
      "       [0., 0., 0., 0.],\n",
      "       [0., 1., 0., 0.],\n",
      "       [0., 0., 0., 0.]]), array([[0., 0., 0., 0.],\n",
      "       [0., 0., 0., 0.],\n",
      "       [0., 0., 1., 0.],\n",
      "       [0., 0., 0., 0.]]), array([[0., 0., 0., 0.],\n",
      "       [0., 0., 0., 0.],\n",
      "       [0., 0., 0., 1.],\n",
      "       [0., 0., 0., 0.]]), array([[0., 0., 0., 0.],\n",
      "       [0., 0., 0., 0.],\n",
      "       [0., 0., 0., 0.],\n",
      "       [1., 0., 0., 0.]]), array([[0., 0., 0., 0.],\n",
      "       [0., 0., 0., 0.],\n",
      "       [0., 0., 0., 0.],\n",
      "       [0., 1., 0., 0.]]), array([[0., 0., 0., 0.],\n",
      "       [0., 0., 0., 0.],\n",
      "       [0., 0., 0., 0.],\n",
      "       [0., 0., 1., 0.]]), array([[0., 0., 0., 0.],\n",
      "       [0., 0., 0., 0.],\n",
      "       [0., 0., 0., 0.],\n",
      "       [0., 0., 0., 1.]])]\n"
     ]
    }
   ],
   "source": [
    "n=4\n",
    "X=np.zeros((n,n))\n",
    "m=neighbours(X,n)\n",
    "print(m)"
   ]
  },
  {
   "cell_type": "code",
   "execution_count": 6,
   "metadata": {},
   "outputs": [],
   "source": [
    "def generate_next_element (A,n):\n",
    "    N=neighbours(A,n)\n",
    "    R=random.choice(N)\n",
    "    le=len(N)\n",
    "    return R,le"
   ]
  },
  {
   "cell_type": "code",
   "execution_count": 7,
   "metadata": {},
   "outputs": [
    {
     "name": "stdout",
     "output_type": "stream",
     "text": [
      "[[0. 0. 0. 0. 0. 0. 0. 0.]\n",
      " [0. 0. 0. 0. 0. 0. 0. 0.]\n",
      " [0. 0. 0. 0. 0. 0. 0. 0.]\n",
      " [0. 0. 0. 0. 0. 0. 0. 0.]\n",
      " [0. 0. 0. 0. 0. 0. 0. 0.]\n",
      " [0. 0. 0. 0. 0. 0. 0. 0.]\n",
      " [0. 0. 0. 0. 0. 0. 0. 0.]\n",
      " [1. 0. 0. 0. 0. 0. 0. 0.]] 64\n"
     ]
    }
   ],
   "source": [
    "n=8\n",
    "X=np.zeros((n,n))\n",
    "X,s=generate_next_element (X,n)\n",
    "l= Iscorrect (X,n)\n",
    "print(X,s)"
   ]
  },
  {
   "cell_type": "code",
   "execution_count": 9,
   "metadata": {},
   "outputs": [],
   "source": [
    "def step (X,n):\n",
    "    A,s=generate_next_element(X,n)\n",
    "    B,s1=generate_next_element(A,n)\n",
    "    q=min(1,s/s1)\n",
    "    u=np.array([0,1])\n",
    "    C=np.random.choice(u,p=[1-q,q])\n",
    "    if(C==0):\n",
    "        return X\n",
    "    else:\n",
    "        return A"
   ]
  },
  {
   "cell_type": "code",
   "execution_count": 10,
   "metadata": {},
   "outputs": [
    {
     "name": "stdout",
     "output_type": "stream",
     "text": [
      "[[0. 1. 0. 0. 0. 0. 1. 0.]\n",
      " [0. 0. 0. 0. 0. 0. 0. 1.]\n",
      " [0. 0. 1. 0. 1. 0. 0. 0.]\n",
      " [0. 1. 0. 0. 0. 1. 0. 1.]\n",
      " [0. 0. 1. 0. 1. 0. 0. 0.]\n",
      " [0. 1. 0. 1. 0. 0. 1. 0.]\n",
      " [0. 0. 1. 0. 1. 0. 0. 1.]\n",
      " [0. 1. 0. 0. 0. 0. 0. 0.]] True\n"
     ]
    }
   ],
   "source": [
    "n=8\n",
    "X=np.zeros((n,n))\n",
    "for i in range (1000):\n",
    "    X=step(X,n)\n",
    "l=Iscorrect(X,n)\n",
    "print(X,l)"
   ]
  },
  {
   "cell_type": "code",
   "execution_count": 11,
   "metadata": {},
   "outputs": [
    {
     "name": "stdout",
     "output_type": "stream",
     "text": [
      "[[0. 0. 0. 0. 0. 1. 0. 0.]\n",
      " [0. 0. 1. 0. 0. 0. 0. 1.]\n",
      " [0. 1. 0. 0. 0. 1. 0. 0.]\n",
      " [0. 0. 0. 0. 0. 0. 0. 0.]\n",
      " [0. 0. 0. 0. 1. 0. 0. 0.]\n",
      " [0. 1. 0. 0. 0. 0. 0. 1.]\n",
      " [0. 0. 0. 0. 1. 0. 0. 0.]\n",
      " [1. 0. 0. 0. 0. 0. 0. 1.]]\n"
     ]
    },
    {
     "data": {
      "image/png": "[encoded data removed]",
      "text/plain": [
       "<Figure size 432x288 with 1 Axes>"
      ]
     },
     "metadata": {
      "needs_background": "light"
     },
     "output_type": "display_data"
    },
    {
     "name": "stdout",
     "output_type": "stream",
     "text": [
      "15.470923076923077\n"
     ]
    },
    {
     "data": {
      "image/png": "[encoded data removed]",
      "text/plain": [
       "<Figure size 432x288 with 1 Axes>"
      ]
     },
     "metadata": {
      "needs_background": "light"
     },
     "output_type": "display_data"
    }
   ],
   "source": [
    "n=8\n",
    "X=np.zeros((n,n))\n",
    "su=0\n",
    "walk = []\n",
    "for i in range (300):\n",
    "    X=step(X,n)\n",
    "    su=np.sum(X)\n",
    "    walk.append(su)\n",
    "print(X)\n",
    "plt.hist(walk,bins=np.arange(n*n/2+1) - 0.5,rwidth=0.8)\n",
    "plt.xlabel('Painted')\n",
    "plt.ylabel('Amount')\n",
    "plt.show()\n",
    "walk1=walk\n",
    "walk=[]\n",
    "for i in range (6500):\n",
    "    X=step(X,n)\n",
    "    su=np.sum(X)\n",
    "    walk.append(su.astype(int))\n",
    "Y=np.array(walk)\n",
    "E=np.mean(walk)\n",
    "print(E)\n",
    "plt.hist(walk, bins=np.arange(n*n/2+1) - 0.5, rwidth=0.8, density=True)\n",
    "plt.xlabel('Painted')\n",
    "plt.ylabel('Amount')\n",
    "plt.show()"
   ]
  },
  {
   "cell_type": "markdown",
   "metadata": {},
   "source": [
    "Таким образом, ожидание числа закрашенных вершин - примерно 15"
   ]
  },
  {
   "cell_type": "code",
   "execution_count": 12,
   "metadata": {},
   "outputs": [
    {
     "data": {
      "image/png": "[encoded data removed]",
      "text/plain": [
       "<Figure size 432x288 with 1 Axes>"
      ]
     },
     "metadata": {
      "needs_background": "light"
     },
     "output_type": "display_data"
    },
    {
     "data": {
      "image/png": "[encoded data removed]",
      "text/plain": [
       "<Figure size 432x288 with 1 Axes>"
      ]
     },
     "metadata": {
      "needs_background": "light"
     },
     "output_type": "display_data"
    },
    {
     "data": {
      "image/png": "[encoded data removed]",
      "text/plain": [
       "<Figure size 432x288 with 1 Axes>"
      ]
     },
     "metadata": {
      "needs_background": "light"
     },
     "output_type": "display_data"
    }
   ],
   "source": [
    "plt.hist(walk,bins=np.arange(n*n/2+1) - 0.5,rwidth=0.8)\n",
    "plt.xlabel('Painted')\n",
    "plt.ylabel('Amount')\n",
    "plt.show()\n",
    "plt.plot(walk1)\n",
    "plt.show()\n",
    "plt.plot(walk)\n",
    "plt.show()"
   ]
  },
  {
   "cell_type": "markdown",
   "metadata": {},
   "source": [
    "Как видно из этих графиков, сначала было нестационарное распределение, а потом мы достигли стационарного"
   ]
  },
  {
   "cell_type": "code",
   "execution_count": 13,
   "metadata": {},
   "outputs": [
    {
     "name": "stdout",
     "output_type": "stream",
     "text": [
      "15251.0\n"
     ]
    },
    {
     "data": {
      "image/png": "[encoded data removed]",
      "text/plain": [
       "<Figure size 432x288 with 1 Axes>"
      ]
     },
     "metadata": {
      "needs_background": "light"
     },
     "output_type": "display_data"
    }
   ],
   "source": [
    "a=np.zeros(30)\n",
    "for i in range (29):\n",
    "    for j in range (1000):\n",
    "        if(walk[j]<i+1):\n",
    "            a[i]=a[i]+walk[j]\n",
    "print(a[28])\n",
    "a=a/a[28]\n",
    "plt.bar(np.arange(30),a)\n",
    "plt.show()"
   ]
  },
  {
   "cell_type": "code",
   "execution_count": 21,
   "metadata": {},
   "outputs": [],
   "source": [
    "a=[]\n",
    "b=[]\n",
    "for i in range (8):\n",
    "    for j in range (8):\n",
    "        if X[i][j]==1:\n",
    "            a.append(j)\n",
    "            b.append(7-i)\n",
    "a1=[]\n",
    "b1=[]\n",
    "for i in range (8):\n",
    "    for j in range (8):\n",
    "        if X[i][j]==0:\n",
    "            a1.append(j)\n",
    "            b1.append(7-i)"
   ]
  },
  {
   "cell_type": "code",
   "execution_count": 23,
   "metadata": {},
   "outputs": [
    {
     "data": {
      "image/png": "[encoded data removed]",
      "text/plain": [
       "<Figure size 432x288 with 1 Axes>"
      ]
     },
     "metadata": {
      "needs_background": "light"
     },
     "output_type": "display_data"
    }
   ],
   "source": [
    "for i in range (8):\n",
    "    plt.plot (np.arange (8),np.zeros(8)+i,color='blue')\n",
    "for i in range (8):\n",
    "    plt.plot (np.zeros(8)+i,np.arange (8),color='blue')\n",
    "plt.plot(a,b,'ro',ms=10,color='black')\n",
    "plt.plot(a1,b1,'ro',ms=10,color='red')\n",
    "plt.show()"
   ]
  }
 ],
 "metadata": {
  "kernelspec": {
   "display_name": "Python 3",
   "language": "python",
   "name": "python3"
  },
  "language_info": {
   "codemirror_mode": {
    "name": "ipython",
    "version": 3
   },
   "file_extension": ".py",
   "mimetype": "text/x-python",
   "name": "python",
   "nbconvert_exporter": "python",
   "pygments_lexer": "ipython3",
   "version": "3.7.0"
  }
 },
 "nbformat": 4,
 "nbformat_minor": 2
}
